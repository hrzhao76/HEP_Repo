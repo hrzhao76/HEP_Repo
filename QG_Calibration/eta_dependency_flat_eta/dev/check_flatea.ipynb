{
 "cells": [
  {
   "cell_type": "code",
   "execution_count": 1,
   "metadata": {},
   "outputs": [],
   "source": [
    "import joblib\n",
    "from pathlib import Path\n",
    "from tqdm import tqdm\n",
    "import sys\n",
    "sys.path.append('../')\n",
    "from core.utils import *"
   ]
  },
  {
   "cell_type": "code",
   "execution_count": 3,
   "metadata": {},
   "outputs": [],
   "source": [
    "pythiaA_pred = joblib.load('/global/cfs/projectdirs/atlas/hrzhao/HEP_Repo/QG_Calibration/eta_dependency_flat_eta/nominal/pythiaA_pred.pkl')"
   ]
  },
  {
   "cell_type": "code",
   "execution_count": 4,
   "metadata": {},
   "outputs": [
    {
     "data": {
      "text/html": [
       "<div>\n",
       "<style scoped>\n",
       "    .dataframe tbody tr th:only-of-type {\n",
       "        vertical-align: middle;\n",
       "    }\n",
       "\n",
       "    .dataframe tbody tr th {\n",
       "        vertical-align: top;\n",
       "    }\n",
       "\n",
       "    .dataframe thead th {\n",
       "        text-align: right;\n",
       "    }\n",
       "</style>\n",
       "<table border=\"1\" class=\"dataframe\">\n",
       "  <thead>\n",
       "    <tr style=\"text-align: right;\">\n",
       "      <th></th>\n",
       "      <th>run</th>\n",
       "      <th>event</th>\n",
       "      <th>jet_pt</th>\n",
       "      <th>jet_eta</th>\n",
       "      <th>jet_nTracks</th>\n",
       "      <th>jet_trackWidth</th>\n",
       "      <th>jet_trackC1</th>\n",
       "      <th>jet_trackBDT</th>\n",
       "      <th>jet_PartonTruthLabelID</th>\n",
       "      <th>event_weight</th>\n",
       "      <th>...</th>\n",
       "      <th>pt_idx</th>\n",
       "      <th>original_event_weight</th>\n",
       "      <th>target</th>\n",
       "      <th>GBDT_newScore</th>\n",
       "      <th>jet_nTracks_quark_reweighting_weights</th>\n",
       "      <th>jet_nTracks_gluon_reweighting_weights</th>\n",
       "      <th>jet_trackBDT_quark_reweighting_weights</th>\n",
       "      <th>jet_trackBDT_gluon_reweighting_weights</th>\n",
       "      <th>GBDT_newScore_quark_reweighting_weights</th>\n",
       "      <th>GBDT_newScore_gluon_reweighting_weights</th>\n",
       "    </tr>\n",
       "  </thead>\n",
       "  <tbody>\n",
       "    <tr>\n",
       "      <th>0</th>\n",
       "      <td>364703.0</td>\n",
       "      <td>46193254.0</td>\n",
       "      <td>766.747925</td>\n",
       "      <td>1.298662</td>\n",
       "      <td>2.0</td>\n",
       "      <td>0.318292</td>\n",
       "      <td>0.215923</td>\n",
       "      <td>-0.192873</td>\n",
       "      <td>21.0</td>\n",
       "      <td>0.000276</td>\n",
       "      <td>...</td>\n",
       "      <td>1</td>\n",
       "      <td>17.609434</td>\n",
       "      <td>1</td>\n",
       "      <td>-1.426786</td>\n",
       "      <td>0.000276</td>\n",
       "      <td>0.000276</td>\n",
       "      <td>0.000276</td>\n",
       "      <td>0.000276</td>\n",
       "      <td>0.000276</td>\n",
       "      <td>0.000276</td>\n",
       "    </tr>\n",
       "    <tr>\n",
       "      <th>1</th>\n",
       "      <td>364703.0</td>\n",
       "      <td>46193254.0</td>\n",
       "      <td>701.621765</td>\n",
       "      <td>-0.989431</td>\n",
       "      <td>2.0</td>\n",
       "      <td>0.269898</td>\n",
       "      <td>0.157799</td>\n",
       "      <td>-0.126821</td>\n",
       "      <td>-1.0</td>\n",
       "      <td>0.000226</td>\n",
       "      <td>...</td>\n",
       "      <td>1</td>\n",
       "      <td>17.609434</td>\n",
       "      <td>-</td>\n",
       "      <td>-2.029368</td>\n",
       "      <td>0.000157</td>\n",
       "      <td>0.000118</td>\n",
       "      <td>0.000243</td>\n",
       "      <td>0.000235</td>\n",
       "      <td>0.000205</td>\n",
       "      <td>0.000191</td>\n",
       "    </tr>\n",
       "    <tr>\n",
       "      <th>0</th>\n",
       "      <td>364704.0</td>\n",
       "      <td>46029800.0</td>\n",
       "      <td>567.369995</td>\n",
       "      <td>1.253171</td>\n",
       "      <td>34.0</td>\n",
       "      <td>0.157933</td>\n",
       "      <td>0.323757</td>\n",
       "      <td>0.253368</td>\n",
       "      <td>21.0</td>\n",
       "      <td>0.000004</td>\n",
       "      <td>...</td>\n",
       "      <td>0</td>\n",
       "      <td>0.305107</td>\n",
       "      <td>1</td>\n",
       "      <td>1.562195</td>\n",
       "      <td>0.000004</td>\n",
       "      <td>0.000004</td>\n",
       "      <td>0.000004</td>\n",
       "      <td>0.000004</td>\n",
       "      <td>0.000004</td>\n",
       "      <td>0.000004</td>\n",
       "    </tr>\n",
       "    <tr>\n",
       "      <th>1</th>\n",
       "      <td>364704.0</td>\n",
       "      <td>46029800.0</td>\n",
       "      <td>517.005432</td>\n",
       "      <td>-0.372214</td>\n",
       "      <td>40.0</td>\n",
       "      <td>0.130906</td>\n",
       "      <td>0.308239</td>\n",
       "      <td>0.353442</td>\n",
       "      <td>21.0</td>\n",
       "      <td>0.000003</td>\n",
       "      <td>...</td>\n",
       "      <td>0</td>\n",
       "      <td>0.305107</td>\n",
       "      <td>1</td>\n",
       "      <td>2.224734</td>\n",
       "      <td>0.000003</td>\n",
       "      <td>0.000003</td>\n",
       "      <td>0.000003</td>\n",
       "      <td>0.000003</td>\n",
       "      <td>0.000004</td>\n",
       "      <td>0.000003</td>\n",
       "    </tr>\n",
       "    <tr>\n",
       "      <th>7</th>\n",
       "      <td>364704.0</td>\n",
       "      <td>46031254.0</td>\n",
       "      <td>578.389221</td>\n",
       "      <td>-1.285540</td>\n",
       "      <td>8.0</td>\n",
       "      <td>0.018030</td>\n",
       "      <td>0.130285</td>\n",
       "      <td>-0.413505</td>\n",
       "      <td>2.0</td>\n",
       "      <td>0.000005</td>\n",
       "      <td>...</td>\n",
       "      <td>0</td>\n",
       "      <td>0.383879</td>\n",
       "      <td>0</td>\n",
       "      <td>-2.876034</td>\n",
       "      <td>0.000005</td>\n",
       "      <td>0.000005</td>\n",
       "      <td>0.000005</td>\n",
       "      <td>0.000005</td>\n",
       "      <td>0.000005</td>\n",
       "      <td>0.000005</td>\n",
       "    </tr>\n",
       "  </tbody>\n",
       "</table>\n",
       "<p>5 rows × 22 columns</p>\n",
       "</div>"
      ],
      "text/plain": [
       "        run       event      jet_pt   jet_eta  jet_nTracks  jet_trackWidth  \\\n",
       "0  364703.0  46193254.0  766.747925  1.298662          2.0        0.318292   \n",
       "1  364703.0  46193254.0  701.621765 -0.989431          2.0        0.269898   \n",
       "0  364704.0  46029800.0  567.369995  1.253171         34.0        0.157933   \n",
       "1  364704.0  46029800.0  517.005432 -0.372214         40.0        0.130906   \n",
       "7  364704.0  46031254.0  578.389221 -1.285540          8.0        0.018030   \n",
       "\n",
       "   jet_trackC1  jet_trackBDT  jet_PartonTruthLabelID  event_weight  ...  \\\n",
       "0     0.215923     -0.192873                    21.0      0.000276  ...   \n",
       "1     0.157799     -0.126821                    -1.0      0.000226  ...   \n",
       "0     0.323757      0.253368                    21.0      0.000004  ...   \n",
       "1     0.308239      0.353442                    21.0      0.000003  ...   \n",
       "7     0.130285     -0.413505                     2.0      0.000005  ...   \n",
       "\n",
       "   pt_idx  original_event_weight  target  GBDT_newScore  \\\n",
       "0       1              17.609434       1      -1.426786   \n",
       "1       1              17.609434       -      -2.029368   \n",
       "0       0               0.305107       1       1.562195   \n",
       "1       0               0.305107       1       2.224734   \n",
       "7       0               0.383879       0      -2.876034   \n",
       "\n",
       "  jet_nTracks_quark_reweighting_weights  \\\n",
       "0                              0.000276   \n",
       "1                              0.000157   \n",
       "0                              0.000004   \n",
       "1                              0.000003   \n",
       "7                              0.000005   \n",
       "\n",
       "   jet_nTracks_gluon_reweighting_weights  \\\n",
       "0                               0.000276   \n",
       "1                               0.000118   \n",
       "0                               0.000004   \n",
       "1                               0.000003   \n",
       "7                               0.000005   \n",
       "\n",
       "   jet_trackBDT_quark_reweighting_weights  \\\n",
       "0                                0.000276   \n",
       "1                                0.000243   \n",
       "0                                0.000004   \n",
       "1                                0.000003   \n",
       "7                                0.000005   \n",
       "\n",
       "   jet_trackBDT_gluon_reweighting_weights  \\\n",
       "0                                0.000276   \n",
       "1                                0.000235   \n",
       "0                                0.000004   \n",
       "1                                0.000003   \n",
       "7                                0.000005   \n",
       "\n",
       "   GBDT_newScore_quark_reweighting_weights  \\\n",
       "0                                 0.000276   \n",
       "1                                 0.000205   \n",
       "0                                 0.000004   \n",
       "1                                 0.000004   \n",
       "7                                 0.000005   \n",
       "\n",
       "   GBDT_newScore_gluon_reweighting_weights  \n",
       "0                                 0.000276  \n",
       "1                                 0.000191  \n",
       "0                                 0.000004  \n",
       "1                                 0.000003  \n",
       "7                                 0.000005  \n",
       "\n",
       "[5 rows x 22 columns]"
      ]
     },
     "execution_count": 4,
     "metadata": {},
     "output_type": "execute_result"
    }
   ],
   "source": [
    "pythiaA_pred.head()"
   ]
  },
  {
   "cell_type": "code",
   "execution_count": 5,
   "metadata": {},
   "outputs": [
    {
     "data": {
      "text/html": [
       "<html>\n",
       "<div style=\"display:flex; align-items:center;\">\n",
       "<div style=\"width:290px;\">\n",
       "<svg xmlns=\"http://www.w3.org/2000/svg\" viewBox=\"-10 -105 270 120\">\n",
       "<line x1=\"-5\" y1=\"0\" x2=\"255\" y2=\"0\" style=\"fill:none;stroke-width:2;stroke:currentColor\"/>\n",
       "<text text-anchor=\"middle\" x=\"0\" y=\"15\" style=\"fill:currentColor;\">\n",
       "-2.1\n",
       "</text>\n",
       "<text text-anchor=\"middle\" x=\"250\" y=\"15\" style=\"fill:currentColor;\">\n",
       "2.1\n",
       "</text>\n",
       "<text text-anchor=\"middle\" x=\"125.0\" y=\"15\" style=\"fill:currentColor;\">\n",
       "Axis 0\n",
       "</text>\n",
       "<polyline points=\"  0,0   0,-99.4 2.5,-99.4 2.5,-98.7   5,-98.7   5,-99.3 7.5,-99.3 7.5,-98.3  10,-98.3  10,-100 12.5,-100 12.5,-99.7  15,-99.7  15,-99.3 17.5,-99.3 17.5,-99.2  20,-99.2  20,-99 22.5,-99 22.5,-99.1  25,-99.1  25,-99.3 27.5,-99.3 27.5,-98.8  30,-98.8  30,-99.5 32.5,-99.5 32.5,-99.4  35,-99.4  35,-99 37.5,-99 37.5,-98.6  40,-98.6  40,-98.5 42.5,-98.5 42.5,-99  45,-99  45,-99.1 47.5,-99.1 47.5,-98.6  50,-98.6  50,-99.6 52.5,-99.6 52.5,-98.9  55,-98.9  55,-99 57.5,-99 57.5,-98.7  60,-98.7  60,-99.8 62.5,-99.8 62.5,-99.6  65,-99.6  65,-99.8 67.5,-99.8 67.5,-99.3  70,-99.3  70,-99.3 72.5,-99.3 72.5,-99.7  75,-99.7  75,-99.6 77.5,-99.6 77.5,-99.1  80,-99.1  80,-99.5 82.5,-99.5 82.5,-99.7  85,-99.7  85,-99.7 87.5,-99.7 87.5,-99.3  90,-99.3  90,-99.5 92.5,-99.5 92.5,-99.4  95,-99.4  95,-99.7 97.5,-99.7 97.5,-99.4 100,-99.4 100,-99.5 102.5,-99.5 102.5,-99.7 105,-99.7 105,-99.5 107.5,-99.5 107.5,-99.3 110,-99.3 110,-99.4 112.5,-99.4 112.5,-99.4 115,-99.4 115,-99.5 117.5,-99.5 117.5,-99.5 120,-99.5 120,-99.5 122.5,-99.5 122.5,-99.3 125,-99.3 125,-98.5 127.5,-98.5 127.5,-98.8 130,-98.8 130,-98.3 132.5,-98.3 132.5,-98.5 135,-98.5 135,-98.3 137.5,-98.3 137.5,-98.4 140,-98.4 140,-98.3 142.5,-98.3 142.5,-98.6 145,-98.6 145,-98.9 147.5,-98.9 147.5,-98.2 150,-98.2 150,-98.1 152.5,-98.1 152.5,-98.2 155,-98.2 155,-98.5 157.5,-98.5 157.5,-98.6 160,-98.6 160,-98.2 162.5,-98.2 162.5,-98.6 165,-98.6 165,-98.5 167.5,-98.5 167.5,-98.5 170,-98.5 170,-97.9 172.5,-97.9 172.5,-98.3 175,-98.3 175,-98.3 177.5,-98.3 177.5,-98.4 180,-98.4 180,-98.3 182.5,-98.3 182.5,-98.7 185,-98.7 185,-99.1 187.5,-99.1 187.5,-100 190,-100 190,-99.6 192.5,-99.6 192.5,-99.4 195,-99.4 195,-99.6 197.5,-99.6 197.5,-99.5 200,-99.5 200,-99.7 202.5,-99.7 202.5,-99.1 205,-99.1 205,-99.2 207.5,-99.2 207.5,-99 210,-99 210,-99.1 212.5,-99.1 212.5,-99.1 215,-99.1 215,-99.9 217.5,-99.9 217.5,-99.2 220,-99.2 220,-99.3 222.5,-99.3 222.5,-99.2 225,-99.2 225,-99.2 227.5,-99.2 227.5,-99 230,-99 230,-99 232.5,-99 232.5,-98.6 235,-98.6 235,-99 237.5,-99 237.5,-99 240,-99 240,-99.2 242.5,-99.2 242.5,-98.9 245,-98.9 245,-99.4 247.5,-99.4 247.5,-99.1 250,-99.1 250,0\" style=\"fill:none; stroke:currentColor;\"/>\n",
       "</svg>\n",
       "</div>\n",
       "<div style=\"flex=grow:1;\">\n",
       "Regular(100, -2.1, 2.1, label='Axis 0')<br/>\n",
       "<hr style=\"margin-top:.2em; margin-bottom:.2em;\"/>\n",
       "Weight() Σ=WeightedSum(value=128.871, variance=0.00134593)\n",
       "\n",
       "</div>\n",
       "</div>\n",
       "</html>"
      ],
      "text/plain": [
       "Hist(Regular(100, -2.1, 2.1, label='Axis 0'), storage=Weight()) # Sum: WeightedSum(value=128.871, variance=0.00134593)"
      ]
     },
     "execution_count": 5,
     "metadata": {},
     "output_type": "execute_result"
    }
   ],
   "source": [
    "pythia_period_pt = pythiaA_pred.loc[pythiaA_pred['pt_idx']==1]\n",
    "eta_hist =Hist(hist.axis.Regular(bins=100, start=-2.1, stop=2.1, overflow=True, underflow=True), \n",
    "                                    storage=hist.storage.Weight())\n",
    "eta_hist.fill(pythia_period_pt['jet_eta'], weight=pythia_period_pt['event_weight'])"
   ]
  },
  {
   "cell_type": "code",
   "execution_count": 6,
   "metadata": {},
   "outputs": [
    {
     "data": {
      "text/plain": [
       "[StairsArtists(stairs=<matplotlib.patches.StepPatch object at 0x149d47c8d0d0>, errorbar=<ErrorbarContainer object of 3 artists>, legend_artist=<ErrorbarContainer object of 3 artists>)]"
      ]
     },
     "execution_count": 6,
     "metadata": {},
     "output_type": "execute_result"
    },
    {
     "data": {
      "image/png": "[encoded data removed]",
      "text/plain": [
       "<Figure size 640x480 with 1 Axes>"
      ]
     },
     "metadata": {},
     "output_type": "display_data"
    }
   ],
   "source": [
    "eta_hist.plot()"
   ]
  },
  {
   "cell_type": "code",
   "execution_count": 7,
   "metadata": {},
   "outputs": [
    {
     "data": {
      "text/html": [
       "<html>\n",
       "<div style=\"display:flex; align-items:center;\">\n",
       "<div style=\"width:290px;\">\n",
       "<svg xmlns=\"http://www.w3.org/2000/svg\" viewBox=\"-10 -105 270 120\">\n",
       "<line x1=\"-5\" y1=\"0\" x2=\"255\" y2=\"0\" style=\"fill:none;stroke-width:2;stroke:currentColor\"/>\n",
       "<text text-anchor=\"middle\" x=\"0\" y=\"15\" style=\"fill:currentColor;\">\n",
       "-2.1\n",
       "</text>\n",
       "<text text-anchor=\"middle\" x=\"250\" y=\"15\" style=\"fill:currentColor;\">\n",
       "2.1\n",
       "</text>\n",
       "<text text-anchor=\"middle\" x=\"125.0\" y=\"15\" style=\"fill:currentColor;\">\n",
       "Axis 0\n",
       "</text>\n",
       "<polyline points=\"  0,0   0,-12.7 2.5,-12.7 2.5,-14.4   5,-14.4   5,-15.7 7.5,-15.7 7.5,-19.6  10,-19.6  10,-19.1 12.5,-19.1 12.5,-24.3  15,-24.3  15,-24.4 17.5,-24.4 17.5,-28.6  20,-28.6  20,-30 22.5,-30 22.5,-29.1  25,-29.1  25,-34.1 27.5,-34.1 27.5,-39.6  30,-39.6  30,-40.8 32.5,-40.8 32.5,-42.1  35,-42.1  35,-44.1 37.5,-44.1 37.5,-46.5  40,-46.5  40,-50 42.5,-50 42.5,-53.4  45,-53.4  45,-55.6 47.5,-55.6 47.5,-58.8  50,-58.8  50,-63.1 52.5,-63.1 52.5,-63.1  55,-63.1  55,-65.9 57.5,-65.9 57.5,-60.3  60,-60.3  60,-75.9 62.5,-75.9 62.5,-71.8  65,-71.8  65,-66.3 67.5,-66.3 67.5,-71  70,-71  70,-76.1 72.5,-76.1 72.5,-75.3  75,-75.3  75,-78.3 77.5,-78.3 77.5,-76.3  80,-76.3  80,-83.3 82.5,-83.3 82.5,-81.9  85,-81.9  85,-86.3 87.5,-86.3 87.5,-80.9  90,-80.9  90,-88.2 92.5,-88.2 92.5,-84.1  95,-84.1  95,-88 97.5,-88 97.5,-91.9 100,-91.9 100,-82.9 102.5,-82.9 102.5,-95.5 105,-95.5 105,-85.8 107.5,-85.8 107.5,-92.3 110,-92.3 110,-93.8 112.5,-93.8 112.5,-86 115,-86 115,-100 117.5,-100 117.5,-84.6 120,-84.6 120,-99.3 122.5,-99.3 122.5,-89 125,-89 125,-88 127.5,-88 127.5,-97.9 130,-97.9 130,-83.5 132.5,-83.5 132.5,-99.1 135,-99.1 135,-85.8 137.5,-85.8 137.5,-92.8 140,-92.8 140,-91.6 142.5,-91.6 142.5,-84.6 145,-84.6 145,-94.3 147.5,-94.3 147.5,-81.5 150,-81.5 150,-89.2 152.5,-89.2 152.5,-85.8 155,-85.8 155,-83.4 157.5,-83.4 157.5,-87.7 160,-87.7 160,-79.3 162.5,-79.3 162.5,-85.1 165,-85.1 165,-80.4 167.5,-80.4 167.5,-82.8 170,-82.8 170,-75.4 172.5,-75.4 172.5,-77.9 175,-77.9 175,-74.4 177.5,-74.4 177.5,-75.3 180,-75.3 180,-70.1 182.5,-70.1 182.5,-65.9 185,-65.9 185,-71.8 187.5,-71.8 187.5,-76.2 190,-76.2 190,-60.1 192.5,-60.1 192.5,-65.8 195,-65.8 195,-63.1 197.5,-63.1 197.5,-63.1 200,-63.1 200,-58.9 202.5,-58.9 202.5,-55.3 205,-55.3 205,-53.1 207.5,-53.1 207.5,-50.2 210,-50.2 210,-46.7 212.5,-46.7 212.5,-43.9 215,-43.9 215,-42.1 217.5,-42.1 217.5,-40.9 220,-40.9 220,-39.8 222.5,-39.8 222.5,-34.3 225,-34.3 225,-29.1 227.5,-29.1 227.5,-29.9 230,-29.9 230,-28.4 232.5,-28.4 232.5,-24.3 235,-24.3 235,-24 237.5,-24 237.5,-19.1 240,-19.1 240,-20.2 242.5,-20.2 242.5,-15.9 245,-15.9 245,-14.8 247.5,-14.8 247.5,-12.9 250,-12.9 250,0\" style=\"fill:none; stroke:currentColor;\"/>\n",
       "</svg>\n",
       "</div>\n",
       "<div style=\"flex=grow:1;\">\n",
       "Regular(100, -2.1, 2.1, label='Axis 0')<br/>\n",
       "<hr style=\"margin-top:.2em; margin-bottom:.2em;\"/>\n",
       "Weight() Σ=WeightedSum(value=9.17843e+06, variance=4.90555e+06)\n",
       "\n",
       "</div>\n",
       "</div>\n",
       "</html>"
      ],
      "text/plain": [
       "Hist(Regular(100, -2.1, 2.1, label='Axis 0'), storage=Weight()) # Sum: WeightedSum(value=9.17843e+06, variance=4.90555e+06)"
      ]
     },
     "execution_count": 7,
     "metadata": {},
     "output_type": "execute_result"
    }
   ],
   "source": [
    "pythia_period_pt = pythiaA_pred.loc[pythiaA_pred['pt_idx']==1]\n",
    "eta_hist =Hist(hist.axis.Regular(bins=100, start=-2.1, stop=2.1, overflow=True, underflow=True), \n",
    "                                    storage=hist.storage.Weight())\n",
    "eta_hist.fill(pythia_period_pt['jet_eta'], weight=pythia_period_pt['original_event_weight'])"
   ]
  },
  {
   "cell_type": "code",
   "execution_count": 8,
   "metadata": {},
   "outputs": [
    {
     "data": {
      "text/plain": [
       "[StairsArtists(stairs=<matplotlib.patches.StepPatch object at 0x149d44543670>, errorbar=<ErrorbarContainer object of 3 artists>, legend_artist=<ErrorbarContainer object of 3 artists>)]"
      ]
     },
     "execution_count": 8,
     "metadata": {},
     "output_type": "execute_result"
    },
    {
     "data": {
      "image/png": "[encoded data removed]",
      "text/plain": [
       "<Figure size 640x480 with 1 Axes>"
      ]
     },
     "metadata": {},
     "output_type": "display_data"
    }
   ],
   "source": [
    "eta_hist.plot()"
   ]
  },
  {
   "cell_type": "code",
   "execution_count": null,
   "metadata": {},
   "outputs": [],
   "source": []
  }
 ],
 "metadata": {
  "kernelspec": {
   "display_name": "ml",
   "language": "python",
   "name": "python3"
  },
  "language_info": {
   "codemirror_mode": {
    "name": "ipython",
    "version": 3
   },
   "file_extension": ".py",
   "mimetype": "text/x-python",
   "name": "python",
   "nbconvert_exporter": "python",
   "pygments_lexer": "ipython3",
   "version": "3.9.15"
  },
  "orig_nbformat": 4
 },
 "nbformat": 4,
 "nbformat_minor": 2
}
