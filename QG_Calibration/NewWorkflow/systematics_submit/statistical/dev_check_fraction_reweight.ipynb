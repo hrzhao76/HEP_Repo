{
 "cells": [
  {
   "cell_type": "code",
   "execution_count": 1,
   "metadata": {},
   "outputs": [],
   "source": [
    "import joblib \n",
    "import numpy as np\n",
    "import pandas as pd \n",
    "from pathlib import Path\n",
    "import matplotlib.pyplot as plt\n",
    "import hist\n",
    "from hist import Hist \n",
    "from uncertainties import ufloat, unumpy\n",
    "from tqdm import tqdm\n",
    "import re\n",
    "import uncertainties\n",
    "\n",
    "import sys\n",
    "core_code_path = '/global/cfs/projectdirs/atlas/hrzhao/HEP_Repo/QG_Calibration/NewWorkflow'\n",
    "sys.path.append(core_code_path)\n",
    "\n",
    "from core.Calculate_SF import Calcu_Frac_unumpy, Normalize_unumpy, safe_array_divide_unumpy\n",
    "from core.utils import HistBins, label_var, label_pt_bin, convert_unumpy2hist\n"
   ]
  },
  {
   "attachments": {},
   "cell_type": "markdown",
   "metadata": {},
   "source": [
    "# Check Fraction unumpy"
   ]
  },
  {
   "cell_type": "code",
   "execution_count": 2,
   "metadata": {},
   "outputs": [],
   "source": [
    "jet_nTracks_Extraction_Results_path = '/global/cfs/projectdirs/atlas/hrzhao/HEP_Repo/QG_Calibration/NewWorkflow/trained_lightGBM_new/nominal/plots/ADE/Extraction_Results/jet_nTracks_Extraction_Results.pkl'\n",
    "jet_nTracks_Extraction_Results = joblib.load(jet_nTracks_Extraction_Results_path)"
   ]
  },
  {
   "cell_type": "code",
   "execution_count": 46,
   "metadata": {},
   "outputs": [],
   "source": [
    "fractions_unumpy = dict.fromkeys(label_pt_bin[:-1])\n",
    "for l_pt in label_pt_bin[:-1]:\n",
    "    Forward_Quark = jet_nTracks_Extraction_Results['jet_nTracks'][l_pt]['Forward_Quark']\n",
    "    Central_Quark = jet_nTracks_Extraction_Results['jet_nTracks'][l_pt]['Central_Quark']\n",
    "\n",
    "    Forward = jet_nTracks_Extraction_Results['jet_nTracks'][l_pt]['Forward_MC']\n",
    "    Central = jet_nTracks_Extraction_Results['jet_nTracks'][l_pt]['Central_MC']\n",
    "\n",
    "    f, f_inv = Calcu_Frac_unumpy(Forward_Quark, Central_Quark, Forward, Central)\n",
    "    fractions_unumpy[l_pt] = f"
   ]
  },
  {
   "cell_type": "code",
   "execution_count": 47,
   "metadata": {},
   "outputs": [
    {
     "data": {
      "text/plain": [
       "{500: array([[0.5687417864008377+/-0.0002881185848471797,\n",
       "         0.4312582135991623+/-0.0002881185848471797],\n",
       "        [0.4030923851734515+/-0.00022473766402322917,\n",
       "         0.5969076148265485+/-0.00022473766402322917]], dtype=object),\n",
       " 600: array([[0.6163649487532317+/-0.00023861326253524933,\n",
       "         0.38363505124676833+/-0.00023861326253524933],\n",
       "        [0.44921553827900856+/-0.00019188190434866697,\n",
       "         0.5507844617209914+/-0.00019188190434866697]], dtype=object),\n",
       " 800: array([[0.6599404645484899+/-0.0003145850109978872,\n",
       "         0.34005953545151013+/-0.0003145850109978872],\n",
       "        [0.5042360818745285+/-0.0002625144420450116,\n",
       "         0.4957639181254715+/-0.0002625144420450116]], dtype=object),\n",
       " 1000: array([[0.6954872610819424+/-0.00043032932041855006,\n",
       "         0.30451273891805763+/-0.00043032932041855006],\n",
       "        [0.5559059604926192+/-0.00037437959122343717,\n",
       "         0.4440940395073808+/-0.00037437959122343717]], dtype=object),\n",
       " 1200: array([[0.7300586153650407+/-0.0006161482965337718,\n",
       "         0.2699413846349593+/-0.0006161482965337718],\n",
       "        [0.6101972881914468+/-0.0004055632889450618,\n",
       "         0.3898027118085532+/-0.0004055632889450618]], dtype=object),\n",
       " 1500: array([[0.776965663984591+/-0.0004847287344469907,\n",
       "         0.223034336015409+/-0.0004847287344469907],\n",
       "        [0.6806263034429625+/-0.00044273709860287463,\n",
       "         0.3193736965570375+/-0.00044273709860287463]], dtype=object)}"
      ]
     },
     "execution_count": 47,
     "metadata": {},
     "output_type": "execute_result"
    }
   ],
   "source": [
    "fractions_unumpy"
   ]
  },
  {
   "attachments": {},
   "cell_type": "markdown",
   "metadata": {},
   "source": [
    "# Check Reweight Factor"
   ]
  },
  {
   "cell_type": "code",
   "execution_count": 3,
   "metadata": {},
   "outputs": [],
   "source": [
    "none_Extraction_Results_path = '/global/cfs/projectdirs/atlas/hrzhao/HEP_Repo/QG_Calibration/NewWorkflow/trained_lightGBM_new/nominal/plots/ADE/Extraction_Results/none_Extraction_Results.pkl'\n",
    "none_Extraction_Results = joblib.load(none_Extraction_Results_path)"
   ]
  },
  {
   "cell_type": "code",
   "execution_count": 6,
   "metadata": {},
   "outputs": [],
   "source": [
    "reweight_factors_unumpy = dict.fromkeys(label_pt_bin[:-1])\n",
    "for l_pt in label_pt_bin[:-1]:\n",
    "    p_Forward_Quark = none_Extraction_Results['jet_nTracks'][l_pt]['p_Forward_Quark'] \n",
    "    p_Central_Quark = none_Extraction_Results['jet_nTracks'][l_pt]['p_Central_Quark'] \n",
    "\n",
    "    reweight_factors_unumpy[l_pt] = safe_array_divide_unumpy(p_Forward_Quark, p_Central_Quark)"
   ]
  },
  {
   "cell_type": "code",
   "execution_count": 4,
   "metadata": {},
   "outputs": [],
   "source": [
    "nominal_path = '/global/cfs/projectdirs/atlas/hrzhao/HEP_Repo/QG_Calibration/NewWorkflow/trained_lightGBM_new/nominal'\n",
    "nominal_path = Path(nominal_path)\n",
    "\n",
    "reweight_factor_path = nominal_path / \"reweight_factor.pkl\"\n",
    "reweight_factor = joblib.load(reweight_factor_path)"
   ]
  },
  {
   "cell_type": "code",
   "execution_count": 7,
   "metadata": {},
   "outputs": [
    {
     "data": {
      "text/plain": [
       "True"
      ]
     },
     "execution_count": 7,
     "metadata": {},
     "output_type": "execute_result"
    }
   ],
   "source": [
    "np.allclose(reweight_factor[1500]['jet_nTracks']['quark_factor'], unumpy.nominal_values(reweight_factors_unumpy[1500]))"
   ]
  },
  {
   "cell_type": "code",
   "execution_count": 9,
   "metadata": {},
   "outputs": [
    {
     "data": {
      "text/plain": [
       "array([0., 0., 1., 1., 1., 1., 1., 1., 1., 1., 1., 1., 1., 1., 1., 1., 1.,\n",
       "       1., 1., 1., 1., 1., 1., 1., 1., 1., 1., 1., 1., 1., 1., 1., 1., 1.,\n",
       "       1., 1., 1., 1., 1., 1., 1., 1., 1., 1., 1., 1., 1., 1., 1., 1., 1.,\n",
       "       1., 1., 1., 1., 1., 1., 1., 1., 1.])"
      ]
     },
     "execution_count": 9,
     "metadata": {},
     "output_type": "execute_result"
    }
   ],
   "source": [
    "Forward_MC = none_Extraction_Results['jet_nTracks'][500]['Forward_MC'] \n",
    "Central_MC = jet_nTracks_Extraction_Results['jet_nTracks'][500]['Forward_MC'] \n",
    "unumpy.nominal_values(safe_array_divide_unumpy(Forward_MC, Central_MC))"
   ]
  },
  {
   "cell_type": "code",
   "execution_count": 12,
   "metadata": {},
   "outputs": [
    {
     "data": {
      "text/plain": [
       "array([0.        , 0.        , 0.76287671, 0.77206436, 0.78046205,\n",
       "       0.78836757, 0.80756539, 0.83377903, 0.84975514, 0.87610797,\n",
       "       0.90003882, 0.93073216, 0.961505  , 0.98685415, 1.01537761,\n",
       "       1.03822646, 1.05680637, 1.07684775, 1.09361761, 1.11031357,\n",
       "       1.12490074, 1.1229523 , 1.13811487, 1.15667731, 1.16279753,\n",
       "       1.18320585, 1.18639214, 1.19466769, 1.19309822, 1.21474442,\n",
       "       1.2235124 , 1.21973189, 1.22118023, 1.22795447, 1.25946021,\n",
       "       1.24542149, 1.27153147, 1.25341462, 1.31233369, 1.25738194,\n",
       "       1.23949549, 1.32139524, 1.30564806, 1.30888985, 1.30645149,\n",
       "       1.22996327, 1.41972372, 1.20696831, 1.39232868, 1.51015572,\n",
       "       1.07586611, 1.17695639, 1.43084649, 1.40847933, 1.48883864,\n",
       "       0.88045214, 0.75392405, 1.41258999, 1.05679928, 1.47108781])"
      ]
     },
     "execution_count": 12,
     "metadata": {},
     "output_type": "execute_result"
    }
   ],
   "source": [
    "Central_MC_before = none_Extraction_Results['jet_nTracks'][500]['Central_MC'] \n",
    "Central_MC_after = jet_nTracks_Extraction_Results['jet_nTracks'][500]['Central_MC'] \n",
    "unumpy.nominal_values(safe_array_divide_unumpy(Central_MC_after, Central_MC_before))"
   ]
  },
  {
   "cell_type": "code",
   "execution_count": 14,
   "metadata": {},
   "outputs": [
    {
     "data": {
      "text/plain": [
       "array([0.        , 0.        , 0.76287671, 0.77206436, 0.78046205,\n",
       "       0.78836757, 0.80756539, 0.83377903, 0.84975514, 0.87610797,\n",
       "       0.90003882, 0.93073216, 0.961505  , 0.98685415, 1.01537761,\n",
       "       1.03822646, 1.05680637, 1.07684775, 1.09361761, 1.11031357,\n",
       "       1.12490074, 1.1229523 , 1.13811487, 1.15667731, 1.16279753,\n",
       "       1.18320585, 1.18639214, 1.19466769, 1.19309822, 1.21474442,\n",
       "       1.2235124 , 1.21973189, 1.22118023, 1.22795447, 1.25946021,\n",
       "       1.24542149, 1.27153147, 1.25341462, 1.31233369, 1.25738194,\n",
       "       1.23949549, 1.32139524, 1.30564806, 1.30888985, 1.30645149,\n",
       "       1.22996327, 1.41972372, 1.20696831, 1.39232868, 1.51015572,\n",
       "       1.07586611, 1.17695639, 1.43084649, 1.40847933, 1.48883864,\n",
       "       0.88045214, 0.75392405, 1.41258999, 1.05679928, 1.47108781])"
      ]
     },
     "execution_count": 14,
     "metadata": {},
     "output_type": "execute_result"
    }
   ],
   "source": [
    "Central_MC_before = none_Extraction_Results['jet_nTracks'][500]['Central_Quark'] \n",
    "Central_MC_after = jet_nTracks_Extraction_Results['jet_nTracks'][500]['Central_Quark'] \n",
    "unumpy.nominal_values(safe_array_divide_unumpy(Central_MC_after, Central_MC_before))"
   ]
  },
  {
   "cell_type": "code",
   "execution_count": 15,
   "metadata": {},
   "outputs": [
    {
     "data": {
      "text/plain": [
       "array([0.        , 0.        , 0.76287671, 0.77206436, 0.78046205,\n",
       "       0.78836757, 0.80756539, 0.83377903, 0.84975514, 0.87610797,\n",
       "       0.90003882, 0.93073216, 0.961505  , 0.98685415, 1.01537761,\n",
       "       1.03822646, 1.05680637, 1.07684775, 1.09361761, 1.11031357,\n",
       "       1.12490074, 1.1229523 , 1.13811487, 1.15667731, 1.16279753,\n",
       "       1.18320585, 1.18639214, 1.19466769, 1.19309822, 1.21474442,\n",
       "       1.2235124 , 1.21973189, 1.22118023, 1.22795447, 1.25946021,\n",
       "       1.24542149, 1.27153147, 1.25341462, 1.31233369, 1.25738194,\n",
       "       1.23949549, 1.32139524, 1.30564806, 1.30888985, 1.30645149,\n",
       "       1.22996327, 1.41972372, 1.20696831, 1.39232868, 1.51015572,\n",
       "       1.07586611, 1.17695639, 1.43084649, 1.40847933, 1.48883864,\n",
       "       0.88045214, 0.75392405, 1.41258999, 1.05679928, 1.47108781])"
      ]
     },
     "execution_count": 15,
     "metadata": {},
     "output_type": "execute_result"
    }
   ],
   "source": [
    "Central_MC_before = none_Extraction_Results['jet_nTracks'][500]['Central_Gluon'] \n",
    "Central_MC_after = jet_nTracks_Extraction_Results['jet_nTracks'][500]['Central_Gluon'] \n",
    "unumpy.nominal_values(safe_array_divide_unumpy(Central_MC_after, Central_MC_before))"
   ]
  },
  {
   "cell_type": "code",
   "execution_count": 13,
   "metadata": {},
   "outputs": [
    {
     "data": {
      "text/plain": [
       "array([0.        , 0.        , 0.76287671, 0.77206436, 0.78046205,\n",
       "       0.78836757, 0.80756539, 0.83377903, 0.84975514, 0.87610797,\n",
       "       0.90003882, 0.93073216, 0.961505  , 0.98685415, 1.01537761,\n",
       "       1.03822646, 1.05680637, 1.07684775, 1.09361761, 1.11031357,\n",
       "       1.12490074, 1.1229523 , 1.13811487, 1.15667731, 1.16279753,\n",
       "       1.18320585, 1.18639214, 1.19466769, 1.19309822, 1.21474442,\n",
       "       1.2235124 , 1.21973189, 1.22118023, 1.22795447, 1.25946021,\n",
       "       1.24542149, 1.27153147, 1.25341462, 1.31233369, 1.25738194,\n",
       "       1.23949549, 1.32139524, 1.30564806, 1.30888985, 1.30645149,\n",
       "       1.22996327, 1.41972372, 1.20696831, 1.39232868, 1.51015572,\n",
       "       1.07586611, 1.17695639, 1.43084649, 1.40847933, 1.48883864,\n",
       "       0.88045214, 0.75392405, 1.41258999, 1.05679928, 1.47108781])"
      ]
     },
     "execution_count": 13,
     "metadata": {},
     "output_type": "execute_result"
    }
   ],
   "source": [
    "unumpy.nominal_values(reweight_factors_unumpy[500])"
   ]
  },
  {
   "cell_type": "code",
   "execution_count": 13,
   "metadata": {},
   "outputs": [],
   "source": [
    "reweight_factors_unumpy_hist = convert_unumpy2hist(reweight_factors_unumpy[500], bins=np.linspace(0,60,61))"
   ]
  },
  {
   "cell_type": "code",
   "execution_count": 14,
   "metadata": {},
   "outputs": [
    {
     "data": {
      "text/plain": [
       "[StairsArtists(stairs=<matplotlib.patches.StepPatch object at 0x14726b2bf5b0>, errorbar=<ErrorbarContainer object of 3 artists>, legend_artist=<ErrorbarContainer object of 3 artists>)]"
      ]
     },
     "execution_count": 14,
     "metadata": {},
     "output_type": "execute_result"
    },
    {
     "data": {
      "image/png": "[encoded data removed]",
      "text/plain": [
       "<Figure size 799.992x599.976 with 1 Axes>"
      ]
     },
     "metadata": {},
     "output_type": "display_data"
    }
   ],
   "source": [
    "reweight_factors_unumpy_hist.plot()"
   ]
  },
  {
   "cell_type": "code",
   "execution_count": 15,
   "metadata": {},
   "outputs": [],
   "source": [
    "p_Forward_Quark = none_Extraction_Results['jet_nTracks'][500]['p_Forward_Quark'] \n",
    "p_Central_Quark = none_Extraction_Results['jet_nTracks'][500]['p_Central_Quark'] "
   ]
  },
  {
   "cell_type": "code",
   "execution_count": 18,
   "metadata": {},
   "outputs": [
    {
     "data": {
      "text/plain": [
       "array([0.        , 0.        , 0.76287671, 0.77206436, 0.78046205,\n",
       "       0.78836757, 0.80756539, 0.83377903, 0.84975514, 0.87610797,\n",
       "       0.90003882, 0.93073216, 0.961505  , 0.98685415, 1.01537761,\n",
       "       1.03822646, 1.05680637, 1.07684775, 1.09361761, 1.11031357,\n",
       "       1.12490074, 1.1229523 , 1.13811487, 1.15667731, 1.16279753,\n",
       "       1.18320585, 1.18639214, 1.19466769, 1.19309822, 1.21474442,\n",
       "       1.2235124 , 1.21973189, 1.22118023, 1.22795447, 1.25946021,\n",
       "       1.24542149, 1.27153147, 1.25341462, 1.31233369, 1.25738194,\n",
       "       1.23949549, 1.32139524, 1.30564806, 1.30888985, 1.30645149,\n",
       "       1.22996327, 1.41972372, 1.20696831, 1.39232868, 1.51015572,\n",
       "       1.07586611, 1.17695639, 1.43084649, 1.40847933, 1.48883864,\n",
       "       0.88045214, 0.75392405, 1.41258999, 1.05679928, 1.47108781])"
      ]
     },
     "execution_count": 18,
     "metadata": {},
     "output_type": "execute_result"
    }
   ],
   "source": [
    "unumpy.nominal_values(safe_array_divide_unumpy(p_Forward_Quark, p_Central_Quark))"
   ]
  },
  {
   "cell_type": "code",
   "execution_count": 20,
   "metadata": {},
   "outputs": [
    {
     "data": {
      "text/plain": [
       "array([0.        , 0.        , 0.76287671, 0.77206436, 0.78046205,\n",
       "       0.78836757, 0.80756539, 0.83377903, 0.84975514, 0.87610797,\n",
       "       0.90003882, 0.93073216, 0.961505  , 0.98685415, 1.01537761,\n",
       "       1.03822646, 1.05680637, 1.07684775, 1.09361761, 1.11031357,\n",
       "       1.12490074, 1.1229523 , 1.13811487, 1.15667731, 1.16279753,\n",
       "       1.18320585, 1.18639214, 1.19466769, 1.19309822, 1.21474442,\n",
       "       1.2235124 , 1.21973189, 1.22118023, 1.22795447, 1.25946021,\n",
       "       1.24542149, 1.27153147, 1.25341462, 1.31233369, 1.25738194,\n",
       "       1.23949549, 1.32139524, 1.30564806, 1.30888985, 1.30645149,\n",
       "       1.22996327, 1.41972372, 1.20696831, 1.39232868, 1.51015572,\n",
       "       1.07586611, 1.17695639, 1.43084649, 1.40847933, 1.48883864,\n",
       "       0.88045214, 0.75392405, 1.41258999, 1.05679928, 1.47108781])"
      ]
     },
     "execution_count": 20,
     "metadata": {},
     "output_type": "execute_result"
    }
   ],
   "source": [
    "reweight_factor[500]['jet_nTracks']['quark_factor']"
   ]
  },
  {
   "cell_type": "code",
   "execution_count": 23,
   "metadata": {},
   "outputs": [
    {
     "data": {
      "text/plain": [
       "array([0., 0., 1., 1., 1., 1., 1., 1., 1., 1., 1., 1., 1., 1., 1., 1., 1.,\n",
       "       1., 1., 1., 1., 1., 1., 1., 1., 1., 1., 1., 1., 1., 1., 1., 1., 1.,\n",
       "       1., 1., 1., 1., 1., 1., 1., 1., 1., 1., 1., 1., 1., 1., 1., 1., 1.,\n",
       "       1., 1., 1., 1., 1., 1., 1., 1., 1.])"
      ]
     },
     "execution_count": 23,
     "metadata": {},
     "output_type": "execute_result"
    }
   ],
   "source": [
    "p_Forward_Quark = jet_nTracks_Extraction_Results['jet_nTracks'][500]['p_Forward_Quark'] \n",
    "p_Central_Quark = jet_nTracks_Extraction_Results['jet_nTracks'][500]['p_Central_Quark'] \n",
    "unumpy.nominal_values(safe_array_divide_unumpy(p_Forward_Quark, p_Central_Quark))"
   ]
  },
  {
   "cell_type": "code",
   "execution_count": 30,
   "metadata": {},
   "outputs": [
    {
     "data": {
      "text/plain": [
       "array([0.        , 0.        , 1.31379849, 1.31379849, 1.31379849,\n",
       "       1.31379849, 1.31379849, 1.31379849, 1.31379849, 1.31379849,\n",
       "       1.31379849, 1.31379849, 1.31379849, 1.31379849, 1.31379849,\n",
       "       1.31379849, 1.31379849, 1.31379849, 1.31379849, 1.31379849,\n",
       "       1.31379849, 1.31379849, 1.31379849, 1.31379849, 1.31379849,\n",
       "       1.31379849, 1.31379849, 1.31379849, 1.31379849, 1.31379849,\n",
       "       1.31379849, 1.31379849, 1.31379849, 1.31379849, 1.31379849,\n",
       "       1.31379849, 1.31379849, 1.31379849, 1.31379849, 1.31379849,\n",
       "       1.31379849, 1.31379849, 1.31379849, 1.31379849, 1.31379849,\n",
       "       1.31379849, 1.31379849, 1.31379849, 1.31379849, 1.31379849,\n",
       "       1.31379849, 1.31379849, 1.31379849, 1.31379849, 1.31379849,\n",
       "       1.31379849, 1.31379849, 1.31379849, 1.31379849, 1.31379849])"
      ]
     },
     "execution_count": 30,
     "metadata": {},
     "output_type": "execute_result"
    }
   ],
   "source": [
    "Forward_Quark = jet_nTracks_Extraction_Results['jet_nTracks'][500]['Forward_Quark'] \n",
    "Central_Quark = jet_nTracks_Extraction_Results['jet_nTracks'][500]['Central_Quark'] \n",
    "unumpy.nominal_values(safe_array_divide_unumpy(Forward_Quark, Central_Quark))"
   ]
  },
  {
   "cell_type": "code",
   "execution_count": 32,
   "metadata": {},
   "outputs": [
    {
     "data": {
      "text/plain": [
       "array([0.        , 0.        , 1.21767289, 1.26642917, 1.28093509,\n",
       "       1.28329254, 1.28076419, 1.27303198, 1.2632968 , 1.24522147,\n",
       "       1.22724756, 1.19657381, 1.15735265, 1.11811293, 1.07321769,\n",
       "       1.02426757, 0.98733261, 0.94703545, 0.91577304, 0.88823322,\n",
       "       0.86183084, 0.85229504, 0.83251869, 0.81641791, 0.80564747,\n",
       "       0.78841216, 0.78127251, 0.77436372, 0.77557137, 0.76031648,\n",
       "       0.75251901, 0.75687684, 0.7555381 , 0.75150811, 0.73437561,\n",
       "       0.74209481, 0.73044737, 0.73965509, 0.71130251, 0.73663547,\n",
       "       0.75002381, 0.70186328, 0.72018949, 0.71842898, 0.72127247,\n",
       "       0.76781505, 0.68392674, 0.78714182, 0.69118317, 0.62931829,\n",
       "       0.87814786, 0.81478289, 0.72071432, 0.66577287, 0.64191887,\n",
       "       1.04466625, 1.23293119, 0.68629977, 0.93031275, 0.67713103])"
      ]
     },
     "execution_count": 32,
     "metadata": {},
     "output_type": "execute_result"
    }
   ],
   "source": [
    "Forward_MC = jet_nTracks_Extraction_Results['jet_nTracks'][500]['Forward_MC'] \n",
    "Central_MC = jet_nTracks_Extraction_Results['jet_nTracks'][500]['Central_MC'] \n",
    "unumpy.nominal_values(safe_array_divide_unumpy(Forward_MC, Central_MC))"
   ]
  },
  {
   "cell_type": "code",
   "execution_count": 29,
   "metadata": {},
   "outputs": [
    {
     "data": {
      "text/plain": [
       "array([0.        , 0.        , 1.28494638, 1.25610507, 1.2527765 ,\n",
       "       1.27943553, 1.26903298, 1.25618079, 1.25556635, 1.23924529,\n",
       "       1.21970923, 1.1877279 , 1.14714353, 1.10821757, 1.06022803,\n",
       "       1.01952577, 0.98243246, 0.94422567, 0.91393344, 0.87891143,\n",
       "       0.85559936, 0.84315221, 0.81990491, 0.79897025, 0.78823617,\n",
       "       0.77008339, 0.76143818, 0.7554173 , 0.75274306, 0.73590385,\n",
       "       0.73176893, 0.72933035, 0.72892015, 0.72939846, 0.70351695,\n",
       "       0.71570255, 0.70135884, 0.70855163, 0.6805095 , 0.7098435 ,\n",
       "       0.72275012, 0.67621984, 0.68002947, 0.68078134, 0.67534597,\n",
       "       0.72525743, 0.638217  , 0.749305  , 0.6345125 , 0.5940087 ,\n",
       "       0.83520237, 0.75763019, 0.61304922, 0.63547112, 0.57435373,\n",
       "       1.07989106, 1.21435899, 0.57812294, 0.80407853, 0.65227026])"
      ]
     },
     "execution_count": 29,
     "metadata": {},
     "output_type": "execute_result"
    }
   ],
   "source": [
    "Forward_Data = jet_nTracks_Extraction_Results['jet_nTracks'][500]['Forward_Data'] \n",
    "Central_Data = jet_nTracks_Extraction_Results['jet_nTracks'][500]['Central_Data'] \n",
    "unumpy.nominal_values(safe_array_divide_unumpy(Forward_Data, Central_Data))"
   ]
  },
  {
   "cell_type": "code",
   "execution_count": 26,
   "metadata": {},
   "outputs": [
    {
     "data": {
      "text/plain": [
       "array([0.0+/-0, 0.0+/-0, -6588.816937973497+/-164.62428506578175,\n",
       "       -14489.013636283627+/-252.30837231339942,\n",
       "       -31791.075424254326+/-379.4562535728943,\n",
       "       -64226.60249615033+/-535.3404719103655,\n",
       "       -103187.68158748207+/-705.3846248294577,\n",
       "       -143531.4338062975+/-879.2897121185157,\n",
       "       -186760.19991258805+/-1032.5388441349394,\n",
       "       -211293.21775010304+/-1174.1097834176846,\n",
       "       -220233.27882173285+/-1289.731551361678,\n",
       "       -202103.32531801297+/-1394.0112002964167,\n",
       "       -160755.418018708+/-1478.2273997391587,\n",
       "       -112780.1695867033+/-1543.6872725991138,\n",
       "       -44115.186992033035+/-1602.7884099676307,\n",
       "       19121.094459264772+/-1646.1417742421627,\n",
       "       77893.50098913698+/-1675.4930569725936,\n",
       "       141381.2977815366+/-1702.2858395043206,\n",
       "       191777.69627031242+/-1714.214275970277,\n",
       "       246255.21197939035+/-1721.6984603370186,\n",
       "       280343.01876776386+/-1714.6990138752926,\n",
       "       278698.62434362713+/-1669.6947782686066,\n",
       "       305424.485847668+/-1651.8977028202721,\n",
       "       327319.5756995906+/-1631.1164524965857,\n",
       "       320478.1309840969+/-1582.102819307845,\n",
       "       330307.19150412665+/-1550.7034507600647,\n",
       "       310759.3956488994+/-1484.54910107058,\n",
       "       291361.25506118534+/-1421.985298647233,\n",
       "       260909.8360821848+/-1341.5127124502874,\n",
       "       257303.85110203584+/-1297.2557331286323,\n",
       "       233401.80428205756+/-1227.9209223449207,\n",
       "       203166.25925139897+/-1142.8914118174469,\n",
       "       176455.0514440692+/-1064.2022884046003,\n",
       "       153615.4699502007+/-992.3141271799602,\n",
       "       150795.48732679384+/-952.9485048680526,\n",
       "       120020.30195154704+/-862.1228835510926,\n",
       "       110672.48469404413+/-814.0761085810167,\n",
       "       87181.20868522458+/-728.6068418931914,\n",
       "       87600.94221210794+/-710.6600630403008,\n",
       "       59761.51868631487+/-603.9472725384724,\n",
       "       45536.10098944178+/-535.850040356309,\n",
       "       49381.524919843185+/-531.7605195544568,\n",
       "       38305.48521667972+/-469.64263425633015,\n",
       "       30869.1337517661+/-422.3815702001401,\n",
       "       24885.38897318558+/-376.4339351724294,\n",
       "       14864.82807032943+/-307.0765351670285,\n",
       "       20450.681717927015+/-336.622371244006,\n",
       "       7956.6996927463515+/-232.35407397008896,\n",
       "       12292.476813072488+/-258.9900469825884,\n",
       "       12134.35694241201+/-257.30498117810043,\n",
       "       1763.8673878620666+/-137.22710394197847,\n",
       "       2604.1252215780605+/-135.47379231247058,\n",
       "       4726.066344126304+/-159.72352533846365,\n",
       "       3396.9925224362632+/-136.89713512732294,\n",
       "       3234.004510569235+/-130.41841489462936,\n",
       "       -301.0694585642491+/-57.475389147029965,\n",
       "       -452.13309413641434+/-44.66140337379908,\n",
       "       1180.0499108017932+/-77.45861837243434,\n",
       "       205.71555474072318+/-44.87293591905688,\n",
       "       681.7996640237327+/-63.231858341704154], dtype=object)"
      ]
     },
     "execution_count": 26,
     "metadata": {},
     "output_type": "execute_result"
    }
   ],
   "source": [
    "jet_nTracks_Extraction_Results['jet_nTracks'][500]['Central_Data'] * reweight_factor[500]['jet_nTracks']['quark_factor'] - \\\n",
    "jet_nTracks_Extraction_Results['jet_nTracks'][500]['Forward_Data']"
   ]
  },
  {
   "cell_type": "code",
   "execution_count": 93,
   "metadata": {},
   "outputs": [
    {
     "name": "stdout",
     "output_type": "stream",
     "text": [
      "Forward_MC\n",
      "Forward_Data\n",
      "Forward_Quark\n",
      "Forward_Gluon\n",
      "p_Forward_Quark\n",
      "p_Forward_Gluon\n"
     ]
    }
   ],
   "source": [
    "for key, value in none_Extraction_Results['jet_nTracks'][500].items():\n",
    "    if isinstance(value[0], uncertainties.core.AffineScalarFunc):\n",
    "        if np.allclose(unumpy.nominal_values(none_Extraction_Results['jet_nTracks'][500][key]), \n",
    "                        unumpy.nominal_values(jet_nTracks_Extraction_Results['jet_nTracks'][500][key])):\n",
    "            print(key)\n",
    "        \n"
   ]
  },
  {
   "cell_type": "code",
   "execution_count": 95,
   "metadata": {},
   "outputs": [
    {
     "data": {
      "text/plain": [
       "21097206.48469242+/-6402.491704180149"
      ]
     },
     "execution_count": 95,
     "metadata": {},
     "output_type": "execute_result"
    }
   ],
   "source": [
    "none_Extraction_Results['jet_nTracks'][500]['Forward_MC'].sum()"
   ]
  },
  {
   "cell_type": "code",
   "execution_count": 96,
   "metadata": {},
   "outputs": [
    {
     "data": {
      "text/plain": [
       "21097206.48469242+/-6402.491704180149"
      ]
     },
     "execution_count": 96,
     "metadata": {},
     "output_type": "execute_result"
    }
   ],
   "source": [
    "jet_nTracks_Extraction_Results['jet_nTracks'][500]['Forward_MC'].sum()"
   ]
  },
  {
   "cell_type": "code",
   "execution_count": 97,
   "metadata": {},
   "outputs": [
    {
     "data": {
      "text/plain": [
       "21014702.675967507+/-6358.867027445567"
      ]
     },
     "execution_count": 97,
     "metadata": {},
     "output_type": "execute_result"
    }
   ],
   "source": [
    "none_Extraction_Results['jet_nTracks'][500]['Central_MC'].sum()"
   ]
  },
  {
   "cell_type": "code",
   "execution_count": 98,
   "metadata": {},
   "outputs": [
    {
     "data": {
      "text/plain": [
       "22657226.16865046+/-6894.874748299307"
      ]
     },
     "execution_count": 98,
     "metadata": {},
     "output_type": "execute_result"
    }
   ],
   "source": [
    "jet_nTracks_Extraction_Results['jet_nTracks'][500]['Central_MC'].sum()"
   ]
  },
  {
   "cell_type": "code",
   "execution_count": 99,
   "metadata": {},
   "outputs": [
    {
     "data": {
      "text/plain": [
       "array([0.0+/-0, 0.0+/-0, 1.217672885054699+/-0.019936123062462084,\n",
       "       1.2664291742597502+/-0.012676663105010035,\n",
       "       1.280935087542528+/-0.008506340734929846,\n",
       "       1.2832925393481676+/-0.006134623796936935,\n",
       "       1.2807641851152365+/-0.004738297053546466,\n",
       "       1.273031982047415+/-0.003882243836804974,\n",
       "       1.263296802793218+/-0.0033431375629911966,\n",
       "       1.2452214709280067+/-0.0029820326515469712,\n",
       "       1.227247558850842+/-0.002739562080283918,\n",
       "       1.1965738122157603+/-0.002547007577367531,\n",
       "       1.1573526510995877+/-0.002392662826767595,\n",
       "       1.1181129292914394+/-0.002265918307906377,\n",
       "       1.073217686886844+/-0.0021502514741941476,\n",
       "       1.0242675724015777+/-0.0020393479026407724,\n",
       "       0.9873326113967631+/-0.0019606230913274333,\n",
       "       0.9470354460042618+/-0.0018829625910775417,\n",
       "       0.9157730435194131+/-0.0018335922105949811,\n",
       "       0.8882332155433206+/-0.0017978138102339204,\n",
       "       0.8618308420756937+/-0.0017709032829828866,\n",
       "       0.8522950411836357+/-0.001790482281451285,\n",
       "       0.8325186915427897+/-0.0017937674452466973,\n",
       "       0.8164179078937358+/-0.0018137638736028029,\n",
       "       0.8056474661561337+/-0.0018544681201744914,\n",
       "       0.7884121551067238+/-0.001890249093399388,\n",
       "       0.7812725107797136+/-0.0019585592276254835,\n",
       "       0.7743637176383726+/-0.0020386874453320564,\n",
       "       0.7755713748636653+/-0.002150952263390751,\n",
       "       0.7603164829768837+/-0.002233769678645522,\n",
       "       0.7525190103207116+/-0.002351369342293738,\n",
       "       0.7568768410487033+/-0.002527272501609381,\n",
       "       0.7555380965713183+/-0.0027102244097840563,\n",
       "       0.7515081141209113+/-0.002895869185874114,\n",
       "       0.7343756138516767+/-0.0030526599053955685,\n",
       "       0.7420948091063596+/-0.003340818237245726,\n",
       "       0.7304473668960451+/-0.0035824372721504345,\n",
       "       0.7396550892394961+/-0.0039575168334263205,\n",
       "       0.7113025072674248+/-0.0041836762215343585,\n",
       "       0.7366354743470294+/-0.004763684014529839,\n",
       "       0.7500238073431144+/-0.005393780573629064,\n",
       "       0.7018632766138151+/-0.0055791600517008195,\n",
       "       0.7201894908804183+/-0.0063487729210851005,\n",
       "       0.7184289841535801+/-0.007074530548202327,\n",
       "       0.7212724663985824+/-0.007979437865254355,\n",
       "       0.767815053576146+/-0.00954534131070975,\n",
       "       0.68392673872606+/-0.009631173556176665,\n",
       "       0.7871418189799174+/-0.012583025587315342,\n",
       "       0.691183169372438+/-0.012528183257329373,\n",
       "       0.6293182925671573+/-0.013221874172858762,\n",
       "       0.8781478632862755+/-0.02063838659054839,\n",
       "       0.814782890085521+/-0.02238243197758015,\n",
       "       0.7207143218734078+/-0.022490840271690724,\n",
       "       0.6657728690616858+/-0.02516873232424034,\n",
       "       0.6419188717913961+/-0.027736280037408422,\n",
       "       1.0446662451842725+/-0.048795336028969245,\n",
       "       1.2329311948141897+/-0.07043555414180204,\n",
       "       0.6862997743323035+/-0.04575910868693801,\n",
       "       0.9303127539404557+/-0.07230435471986303,\n",
       "       0.6771310327464958+/-0.06857992593391489], dtype=object)"
      ]
     },
     "execution_count": 99,
     "metadata": {},
     "output_type": "execute_result"
    }
   ],
   "source": [
    "safe_array_divide_unumpy(jet_nTracks_Extraction_Results['jet_nTracks'][500]['Forward_MC'], \\\n",
    "    jet_nTracks_Extraction_Results['jet_nTracks'][500]['Central_MC'])"
   ]
  },
  {
   "cell_type": "code",
   "execution_count": 100,
   "metadata": {},
   "outputs": [
    {
     "data": {
      "text/plain": [
       "array([0.        , 0.        , 0.76287671, 0.77206436, 0.78046205,\n",
       "       0.78836757, 0.80756539, 0.83377903, 0.84975514, 0.87610797,\n",
       "       0.90003882, 0.93073216, 0.961505  , 0.98685415, 1.01537761,\n",
       "       1.03822646, 1.05680637, 1.07684775, 1.09361761, 1.11031357,\n",
       "       1.12490074, 1.1229523 , 1.13811487, 1.15667731, 1.16279753,\n",
       "       1.18320585, 1.18639214, 1.19466769, 1.19309822, 1.21474442,\n",
       "       1.2235124 , 1.21973189, 1.22118023, 1.22795447, 1.25946021,\n",
       "       1.24542149, 1.27153147, 1.25341462, 1.31233369, 1.25738194,\n",
       "       1.23949549, 1.32139524, 1.30564806, 1.30888985, 1.30645149,\n",
       "       1.22996327, 1.41972372, 1.20696831, 1.39232868, 1.51015572,\n",
       "       1.07586611, 1.17695639, 1.43084649, 1.40847933, 1.48883864,\n",
       "       0.88045214, 0.75392405, 1.41258999, 1.05679928, 1.47108781])"
      ]
     },
     "execution_count": 100,
     "metadata": {},
     "output_type": "execute_result"
    }
   ],
   "source": [
    "reweight_factor[500]['jet_nTracks']['quark_factor']"
   ]
  },
  {
   "cell_type": "code",
   "execution_count": null,
   "metadata": {},
   "outputs": [],
   "source": []
  }
 ],
 "metadata": {
  "kernelspec": {
   "display_name": "ml",
   "language": "python",
   "name": "python3"
  },
  "language_info": {
   "codemirror_mode": {
    "name": "ipython",
    "version": 3
   },
   "file_extension": ".py",
   "mimetype": "text/x-python",
   "name": "python",
   "nbconvert_exporter": "python",
   "pygments_lexer": "ipython3",
   "version": "3.9.15"
  },
  "orig_nbformat": 4
 },
 "nbformat": 4,
 "nbformat_minor": 2
}
