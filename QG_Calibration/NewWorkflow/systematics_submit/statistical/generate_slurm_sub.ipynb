{
 "cells": [
  {
   "cell_type": "code",
   "execution_count": 1,
   "metadata": {},
   "outputs": [],
   "source": [
    "import joblib\n",
    "import numpy as np \n",
    "from pathlib import Path\n",
    "import uproot "
   ]
  },
  {
   "cell_type": "code",
   "execution_count": 2,
   "metadata": {},
   "outputs": [],
   "source": [
    "syst_identifier = 'statistical'\n",
    "slurm_log_path = f'/global/cfs/projectdirs/atlas/hrzhao/HEP_Repo/QG_Calibration/NewWorkflow/systematics_submit/{syst_identifier}/slurm_logs/'\n",
    "slurm_sub_path = f'/global/cfs/projectdirs/atlas/hrzhao/HEP_Repo/QG_Calibration/NewWorkflow/systematics_submit/{syst_identifier}/slurm_subs/'\n",
    "\n",
    "wrapper_path = f'/global/cfs/projectdirs/atlas/hrzhao/HEP_Repo/QG_Calibration/NewWorkflow/systematics_submit/{syst_identifier}/make_histogram_{syst_identifier}.sh'"
   ]
  },
  {
   "cell_type": "code",
   "execution_count": 3,
   "metadata": {},
   "outputs": [],
   "source": [
    "for _path in [slurm_sub_path, slurm_log_path]:\n",
    "    if not Path(_path).exists():\n",
    "        Path(_path).mkdir(parents=True)"
   ]
  },
  {
   "cell_type": "code",
   "execution_count": 4,
   "metadata": {},
   "outputs": [],
   "source": [
    "def generate_sub_header(i):\n",
    "    script= '#!/bin/bash\\n\\n'+\\\n",
    "            '#SBATCH -C cpu\\n'+\\\n",
    "            '#SBATCH -t 00:20:00\\n'+\\\n",
    "            f'#SBATCH -J qgtagging_{syst_identifier}{i:03}\\n'+\\\n",
    "            '#SBATCH --qos=shared\\n'+\\\n",
    "            '#SBATCH --ntasks=1\\n'+\\\n",
    "            '#SBATCH --cpus-per-task=10\\n'+\\\n",
    "            '#SBATCH --account=atlas\\n'+\\\n",
    "            '#SBATCH --mem=40G\\n'+\\\n",
    "            f'#SBATCH --output={slurm_log_path}/slurm-%j.out\\n'+\\\n",
    "            f'#SBATCH --error={slurm_log_path}/slurm-%j.err\\n\\n\\n'\n",
    "    return script\n"
   ]
  },
  {
   "cell_type": "code",
   "execution_count": 5,
   "metadata": {},
   "outputs": [],
   "source": [
    "bootstrapped_samples_idx = np.arange(0, 50, 1)\n",
    "input_file_pattern = '/global/cfs/projectdirs/atlas/hrzhao/HEP_Repo/QG_Calibration/NewWorkflow/systematics_submit/statistical/generations/bootstrapped_samples'\n",
    "for i, block in enumerate(bootstrapped_samples_idx):\n",
    "    with open(f'{slurm_sub_path}/{syst_identifier}_slurm_sub{block:03}.sl', 'w') as f:\n",
    "        f.write(generate_sub_header(block))\n",
    "\n",
    "        f.write(f\"{wrapper_path} {input_file_pattern}{block}\\n\")\n"
   ]
  },
  {
   "cell_type": "code",
   "execution_count": null,
   "metadata": {},
   "outputs": [],
   "source": []
  }
 ],
 "metadata": {
  "kernelspec": {
   "display_name": "ml",
   "language": "python",
   "name": "python3"
  },
  "language_info": {
   "codemirror_mode": {
    "name": "ipython",
    "version": 3
   },
   "file_extension": ".py",
   "mimetype": "text/x-python",
   "name": "python",
   "nbconvert_exporter": "python",
   "pygments_lexer": "ipython3",
   "version": "3.9.15"
  },
  "orig_nbformat": 4
 },
 "nbformat": 4,
 "nbformat_minor": 2
}
