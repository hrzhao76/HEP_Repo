{
 "cells": [
  {
   "cell_type": "code",
   "execution_count": 1,
   "metadata": {},
   "outputs": [],
   "source": [
    "import joblib \n",
    "import numpy as np\n",
    "import pandas as pd \n",
    "from pathlib import Path\n",
    "import matplotlib.pyplot as plt\n",
    "import hist\n",
    "from hist import Hist \n",
    "from uncertainties import ufloat, unumpy\n",
    "from tqdm import tqdm\n",
    "import re\n",
    "\n",
    "import sys\n",
    "core_code_path = '/global/cfs/projectdirs/atlas/hrzhao/HEP_Repo/QG_Calibration/NewWorkflow'\n",
    "sys.path.append(core_code_path)\n",
    "\n",
    "from core.Calculate_SF import convert_histdict2unumpy, Construct_unumpy, Normalize_unumpy, Plot_WP, WriteSFtoPickle\n",
    "from core.utils import HistBins, label_var, label_pt_bin"
   ]
  },
  {
   "cell_type": "code",
   "execution_count": 2,
   "metadata": {},
   "outputs": [],
   "source": [
    "nominal_path = '/global/cfs/projectdirs/atlas/hrzhao/HEP_Repo/QG_Calibration/NewWorkflow/trained_lightGBM_new/nominal'\n",
    "nominal_path = Path(nominal_path)"
   ]
  },
  {
   "cell_type": "code",
   "execution_count": 3,
   "metadata": {},
   "outputs": [],
   "source": [
    "pythia_path = nominal_path / \"MC_merged_hist.pkl\"\n",
    "data_path = nominal_path / \"Data_merged_hist.pkl\"\n",
    "\n",
    "pythia = joblib.load(pythia_path)\n",
    "data = joblib.load(data_path)\n",
    "\n",
    "reweight_factor_path = nominal_path / \"reweight_factor.pkl\"\n",
    "reweight_factor = joblib.load(reweight_factor_path)\n",
    "\n",
    "bootstrap_Data = joblib.load('bootstrap_Data.pkl')\n",
    "bootstrap_data = bootstrap_Data[1]\n"
   ]
  },
  {
   "cell_type": "code",
   "execution_count": 4,
   "metadata": {},
   "outputs": [
    {
     "name": "stderr",
     "output_type": "stream",
     "text": [
      "  5%|▌         | 5/100 [02:01<38:21, 24.23s/it]\n"
     ]
    },
    {
     "ename": "KeyboardInterrupt",
     "evalue": "",
     "output_type": "error",
     "traceback": [
      "\u001b[0;31m---------------------------------------------------------------------------\u001b[0m",
      "\u001b[0;31mKeyboardInterrupt\u001b[0m                         Traceback (most recent call last)",
      "\u001b[1;32m/global/cfs/projectdirs/atlas/hrzhao/HEP_Repo/QG_Calibration/NewWorkflow/systematics_submit/statistical/dev_calculate_SF.ipynb Cell 4\u001b[0m in \u001b[0;36m1\n\u001b[1;32m     <a href='vscode-notebook-cell://ssh-remote%2Bperlmutter-p1.nersc.gov/global/cfs/projectdirs/atlas/hrzhao/HEP_Repo/QG_Calibration/NewWorkflow/systematics_submit/statistical/dev_calculate_SF.ipynb#X25sdnNjb2RlLXJlbW90ZQ%3D%3D?line=10'>11</a>\u001b[0m \u001b[39m# Load information from MC \u001b[39;00m\n\u001b[1;32m     <a href='vscode-notebook-cell://ssh-remote%2Bperlmutter-p1.nersc.gov/global/cfs/projectdirs/atlas/hrzhao/HEP_Repo/QG_Calibration/NewWorkflow/systematics_submit/statistical/dev_calculate_SF.ipynb#X25sdnNjb2RlLXJlbW90ZQ%3D%3D?line=11'>12</a>\u001b[0m Extraction_Results_path \u001b[39m=\u001b[39m nominal_path \u001b[39m/\u001b[39m \u001b[39m\"\u001b[39m\u001b[39mplots\u001b[39m\u001b[39m\"\u001b[39m \u001b[39m/\u001b[39m \u001b[39m\"\u001b[39m\u001b[39mADE\u001b[39m\u001b[39m\"\u001b[39m \u001b[39m/\u001b[39m \u001b[39m\"\u001b[39m\u001b[39mExtraction_Results\u001b[39m\u001b[39m\"\u001b[39m \u001b[39m/\u001b[39m \u001b[39mf\u001b[39m\u001b[39m\"\u001b[39m\u001b[39m{\u001b[39;00mreweight_var\u001b[39m}\u001b[39;00m\u001b[39m_Extraction_Results.pkl\u001b[39m\u001b[39m\"\u001b[39m\n\u001b[0;32m---> <a href='vscode-notebook-cell://ssh-remote%2Bperlmutter-p1.nersc.gov/global/cfs/projectdirs/atlas/hrzhao/HEP_Repo/QG_Calibration/NewWorkflow/systematics_submit/statistical/dev_calculate_SF.ipynb#X25sdnNjb2RlLXJlbW90ZQ%3D%3D?line=12'>13</a>\u001b[0m Extraction_Results \u001b[39m=\u001b[39m joblib\u001b[39m.\u001b[39mload(Extraction_Results_path)\n\u001b[1;32m     <a href='vscode-notebook-cell://ssh-remote%2Bperlmutter-p1.nersc.gov/global/cfs/projectdirs/atlas/hrzhao/HEP_Repo/QG_Calibration/NewWorkflow/systematics_submit/statistical/dev_calculate_SF.ipynb#X25sdnNjb2RlLXJlbW90ZQ%3D%3D?line=14'>15</a>\u001b[0m \u001b[39mfor\u001b[39;00m l_pt \u001b[39min\u001b[39;00m label_pt_bin[:\u001b[39m-\u001b[39m\u001b[39m1\u001b[39m]:\n\u001b[1;32m     <a href='vscode-notebook-cell://ssh-remote%2Bperlmutter-p1.nersc.gov/global/cfs/projectdirs/atlas/hrzhao/HEP_Repo/QG_Calibration/NewWorkflow/systematics_submit/statistical/dev_calculate_SF.ipynb#X25sdnNjb2RlLXJlbW90ZQ%3D%3D?line=15'>16</a>\u001b[0m     reweight_factor_pt_var \u001b[39m=\u001b[39m reweight_factor[l_pt][reweight_var][\u001b[39m'\u001b[39m\u001b[39mquark_factor\u001b[39m\u001b[39m'\u001b[39m]\n",
      "File \u001b[0;32m/global/cfs/cdirs/atlas/hrzhao/miniconda3/envs/ml/lib/python3.9/site-packages/joblib/numpy_pickle.py:658\u001b[0m, in \u001b[0;36mload\u001b[0;34m(filename, mmap_mode)\u001b[0m\n\u001b[1;32m    652\u001b[0m             \u001b[39mif\u001b[39;00m \u001b[39misinstance\u001b[39m(fobj, \u001b[39mstr\u001b[39m):\n\u001b[1;32m    653\u001b[0m                 \u001b[39m# if the returned file object is a string, this means we\u001b[39;00m\n\u001b[1;32m    654\u001b[0m                 \u001b[39m# try to load a pickle file generated with an version of\u001b[39;00m\n\u001b[1;32m    655\u001b[0m                 \u001b[39m# Joblib so we load it with joblib compatibility function.\u001b[39;00m\n\u001b[1;32m    656\u001b[0m                 \u001b[39mreturn\u001b[39;00m load_compatibility(fobj)\n\u001b[0;32m--> 658\u001b[0m             obj \u001b[39m=\u001b[39m _unpickle(fobj, filename, mmap_mode)\n\u001b[1;32m    659\u001b[0m \u001b[39mreturn\u001b[39;00m obj\n",
      "File \u001b[0;32m/global/cfs/cdirs/atlas/hrzhao/miniconda3/envs/ml/lib/python3.9/site-packages/joblib/numpy_pickle.py:577\u001b[0m, in \u001b[0;36m_unpickle\u001b[0;34m(fobj, filename, mmap_mode)\u001b[0m\n\u001b[1;32m    575\u001b[0m obj \u001b[39m=\u001b[39m \u001b[39mNone\u001b[39;00m\n\u001b[1;32m    576\u001b[0m \u001b[39mtry\u001b[39;00m:\n\u001b[0;32m--> 577\u001b[0m     obj \u001b[39m=\u001b[39m unpickler\u001b[39m.\u001b[39;49mload()\n\u001b[1;32m    578\u001b[0m     \u001b[39mif\u001b[39;00m unpickler\u001b[39m.\u001b[39mcompat_mode:\n\u001b[1;32m    579\u001b[0m         warnings\u001b[39m.\u001b[39mwarn(\u001b[39m\"\u001b[39m\u001b[39mThe file \u001b[39m\u001b[39m'\u001b[39m\u001b[39m%s\u001b[39;00m\u001b[39m'\u001b[39m\u001b[39m has been generated with a \u001b[39m\u001b[39m\"\u001b[39m\n\u001b[1;32m    580\u001b[0m                       \u001b[39m\"\u001b[39m\u001b[39mjoblib version less than 0.10. \u001b[39m\u001b[39m\"\u001b[39m\n\u001b[1;32m    581\u001b[0m                       \u001b[39m\"\u001b[39m\u001b[39mPlease regenerate this pickle file.\u001b[39m\u001b[39m\"\u001b[39m\n\u001b[1;32m    582\u001b[0m                       \u001b[39m%\u001b[39m filename,\n\u001b[1;32m    583\u001b[0m                       \u001b[39mDeprecationWarning\u001b[39;00m, stacklevel\u001b[39m=\u001b[39m\u001b[39m3\u001b[39m)\n",
      "File \u001b[0;32m/global/cfs/cdirs/atlas/hrzhao/miniconda3/envs/ml/lib/python3.9/pickle.py:1212\u001b[0m, in \u001b[0;36m_Unpickler.load\u001b[0;34m(self)\u001b[0m\n\u001b[1;32m   1210\u001b[0m             \u001b[39mraise\u001b[39;00m \u001b[39mEOFError\u001b[39;00m\n\u001b[1;32m   1211\u001b[0m         \u001b[39massert\u001b[39;00m \u001b[39misinstance\u001b[39m(key, bytes_types)\n\u001b[0;32m-> 1212\u001b[0m         dispatch[key[\u001b[39m0\u001b[39;49m]](\u001b[39mself\u001b[39;49m)\n\u001b[1;32m   1213\u001b[0m \u001b[39mexcept\u001b[39;00m _Stop \u001b[39mas\u001b[39;00m stopinst:\n\u001b[1;32m   1214\u001b[0m     \u001b[39mreturn\u001b[39;00m stopinst\u001b[39m.\u001b[39mvalue\n",
      "File \u001b[0;32m/global/cfs/cdirs/atlas/hrzhao/miniconda3/envs/ml/lib/python3.9/site-packages/joblib/numpy_pickle.py:415\u001b[0m, in \u001b[0;36mNumpyUnpickler.load_build\u001b[0;34m(self)\u001b[0m\n\u001b[1;32m    413\u001b[0m \u001b[39mif\u001b[39;00m \u001b[39misinstance\u001b[39m(array_wrapper, NDArrayWrapper):\n\u001b[1;32m    414\u001b[0m     \u001b[39mself\u001b[39m\u001b[39m.\u001b[39mcompat_mode \u001b[39m=\u001b[39m \u001b[39mTrue\u001b[39;00m\n\u001b[0;32m--> 415\u001b[0m \u001b[39mself\u001b[39m\u001b[39m.\u001b[39mstack\u001b[39m.\u001b[39mappend(array_wrapper\u001b[39m.\u001b[39;49mread(\u001b[39mself\u001b[39;49m))\n",
      "File \u001b[0;32m/global/cfs/cdirs/atlas/hrzhao/miniconda3/envs/ml/lib/python3.9/site-packages/joblib/numpy_pickle.py:252\u001b[0m, in \u001b[0;36mNumpyArrayWrapper.read\u001b[0;34m(self, unpickler)\u001b[0m\n\u001b[1;32m    250\u001b[0m     array \u001b[39m=\u001b[39m \u001b[39mself\u001b[39m\u001b[39m.\u001b[39mread_mmap(unpickler)\n\u001b[1;32m    251\u001b[0m \u001b[39melse\u001b[39;00m:\n\u001b[0;32m--> 252\u001b[0m     array \u001b[39m=\u001b[39m \u001b[39mself\u001b[39;49m\u001b[39m.\u001b[39;49mread_array(unpickler)\n\u001b[1;32m    254\u001b[0m \u001b[39m# Manage array subclass case\u001b[39;00m\n\u001b[1;32m    255\u001b[0m \u001b[39mif\u001b[39;00m (\u001b[39mhasattr\u001b[39m(array, \u001b[39m'\u001b[39m\u001b[39m__array_prepare__\u001b[39m\u001b[39m'\u001b[39m) \u001b[39mand\u001b[39;00m\n\u001b[1;32m    256\u001b[0m     \u001b[39mself\u001b[39m\u001b[39m.\u001b[39msubclass \u001b[39mnot\u001b[39;00m \u001b[39min\u001b[39;00m (unpickler\u001b[39m.\u001b[39mnp\u001b[39m.\u001b[39mndarray,\n\u001b[1;32m    257\u001b[0m                           unpickler\u001b[39m.\u001b[39mnp\u001b[39m.\u001b[39mmemmap)):\n\u001b[1;32m    258\u001b[0m     \u001b[39m# We need to reconstruct another subclass\u001b[39;00m\n",
      "File \u001b[0;32m/global/cfs/cdirs/atlas/hrzhao/miniconda3/envs/ml/lib/python3.9/site-packages/joblib/numpy_pickle.py:152\u001b[0m, in \u001b[0;36mNumpyArrayWrapper.read_array\u001b[0;34m(self, unpickler)\u001b[0m\n\u001b[1;32m    149\u001b[0m \u001b[39m# Now read the actual data.\u001b[39;00m\n\u001b[1;32m    150\u001b[0m \u001b[39mif\u001b[39;00m \u001b[39mself\u001b[39m\u001b[39m.\u001b[39mdtype\u001b[39m.\u001b[39mhasobject:\n\u001b[1;32m    151\u001b[0m     \u001b[39m# The array contained Python objects. We need to unpickle the data.\u001b[39;00m\n\u001b[0;32m--> 152\u001b[0m     array \u001b[39m=\u001b[39m pickle\u001b[39m.\u001b[39;49mload(unpickler\u001b[39m.\u001b[39;49mfile_handle)\n\u001b[1;32m    153\u001b[0m \u001b[39melse\u001b[39;00m:\n\u001b[1;32m    154\u001b[0m     numpy_array_alignment_bytes \u001b[39m=\u001b[39m \\\n\u001b[1;32m    155\u001b[0m         \u001b[39mself\u001b[39m\u001b[39m.\u001b[39msafe_get_numpy_array_alignment_bytes()\n",
      "File \u001b[0;32m/global/cfs/cdirs/atlas/hrzhao/miniconda3/envs/ml/lib/python3.9/site-packages/uncertainties/core.py:2459\u001b[0m, in \u001b[0;36mAffineScalarFunc.__setstate__\u001b[0;34m(self, data_dict)\u001b[0m\n\u001b[1;32m   2455\u001b[0m \u001b[39mdef\u001b[39;00m \u001b[39m__setstate__\u001b[39m(\u001b[39mself\u001b[39m, data_dict):\n\u001b[1;32m   2456\u001b[0m     \u001b[39m\"\"\"\u001b[39;00m\n\u001b[1;32m   2457\u001b[0m \u001b[39m    Hook for the pickle module.\u001b[39;00m\n\u001b[1;32m   2458\u001b[0m \u001b[39m    \"\"\"\u001b[39;00m\n\u001b[0;32m-> 2459\u001b[0m     \u001b[39mfor\u001b[39;00m (name, value) \u001b[39min\u001b[39;00m data_dict\u001b[39m.\u001b[39mitems():\n\u001b[1;32m   2460\u001b[0m         \u001b[39m# Contrary to the default __setstate__(), this does not\u001b[39;00m\n\u001b[1;32m   2461\u001b[0m         \u001b[39m# necessarily save to the instance dictionary (because the\u001b[39;00m\n\u001b[1;32m   2462\u001b[0m         \u001b[39m# instance might contain slots):\u001b[39;00m\n\u001b[1;32m   2463\u001b[0m         \u001b[39msetattr\u001b[39m(\u001b[39mself\u001b[39m, name, value)\n",
      "\u001b[0;31mKeyboardInterrupt\u001b[0m: "
     ]
    }
   ],
   "source": [
    "\n",
    "SF_bootstrap = {} \n",
    "\n",
    "for i_trail, bootstrap_data in tqdm(bootstrap_Data.items()):\n",
    "    Extraction_Results_bootstrap = {}\n",
    "\n",
    "    SF_label_vars = ['jet_nTracks', 'jet_trackBDT', 'GBDT_newScore']\n",
    "    WPs = [0.5, 0.6, 0.7, 0.8]\n",
    "    for reweight_var in SF_label_vars:\n",
    "\n",
    "        Extraction_Results_bootstrap[reweight_var] = {}\n",
    "        # Load information from MC \n",
    "        Extraction_Results_path = nominal_path / \"plots\" / \"ADE\" / \"Extraction_Results\" / f\"{reweight_var}_Extraction_Results.pkl\"\n",
    "        Extraction_Results = joblib.load(Extraction_Results_path)\n",
    "\n",
    "        for l_pt in label_pt_bin[:-1]:\n",
    "            reweight_factor_pt_var = reweight_factor[l_pt][reweight_var]['quark_factor']\n",
    "\n",
    "            f_inv = Extraction_Results[reweight_var][l_pt]['f_inv']\n",
    "            \n",
    "            Forward_Data = bootstrap_data[reweight_var][l_pt]['Forward_Data']\n",
    "            Central_Data = bootstrap_data[reweight_var][l_pt]['Central_Data'] * reweight_factor_pt_var\n",
    "\n",
    "            p_Forward_Data = Normalize_unumpy(Forward_Data)\n",
    "            p_Central_Data = Normalize_unumpy(Central_Data)\n",
    "\n",
    "            extract_p_Quark_Data = f_inv[0][0] * p_Forward_Data + f_inv[0][1]* p_Central_Data \n",
    "            extract_p_Gluon_Data = f_inv[1][0] * p_Forward_Data + f_inv[1][1]* p_Central_Data \n",
    "\n",
    "            Extraction_Results_bootstrap[reweight_var][l_pt] = {\n",
    "                    \"Central_Data_event_weight\": bootstrap_data[reweight_var][l_pt]['Central_Data'],\n",
    "                    \"Forward_Data\": Forward_Data,\n",
    "                    \"Central_Data\": Central_Data,\n",
    "                    \"f\": Extraction_Results[reweight_var][l_pt]['f'].copy(),\n",
    "                    \"f_inv\": f_inv,\n",
    "                    \"p_Quark\": Extraction_Results[reweight_var][l_pt]['p_Quark'].copy(),\n",
    "                    \"p_Gluon\": Extraction_Results[reweight_var][l_pt]['p_Gluon'].copy(),\n",
    "                    \"p_Forward_Quark\": Extraction_Results[reweight_var][l_pt]['p_Forward_Quark'].copy(),\n",
    "                    \"p_Central_Quark\": Extraction_Results[reweight_var][l_pt]['p_Central_Quark'].copy(),\n",
    "                    \"p_Forward_Gluon\": Extraction_Results[reweight_var][l_pt]['p_Forward_Gluon'].copy(),\n",
    "                    \"p_Central_Gluon\": Extraction_Results[reweight_var][l_pt]['p_Central_Gluon'].copy(),\n",
    "                    \"extract_p_Quark_MC\": Extraction_Results[reweight_var][l_pt]['extract_p_Quark_MC'].copy(),\n",
    "                    \"extract_p_Gluon_MC\": Extraction_Results[reweight_var][l_pt]['extract_p_Gluon_MC'].copy(),\n",
    "                    \"extract_p_Quark_Data\": extract_p_Quark_Data,\n",
    "                    \"extract_p_Gluon_Data\": extract_p_Gluon_Data\n",
    "                }\n",
    "    SFs = {}\n",
    "    for var in SF_label_vars:\n",
    "        reweighting_var = var \n",
    "        weight_option = \"quark_reweighting_weights\"\n",
    "        period = \"ADE\"\n",
    "        SFs[var] = {}\n",
    "        WP_cut_path = nominal_path / \"plots\" / \"ADE\" / \"WP_cuts_pkls\" / f\"{var}_quark_reweighting_weights\" / \"WP_cuts.pkl\"\n",
    "        WP_cut = joblib.load(WP_cut_path)\n",
    "        #### Draw working points \n",
    "        for WP in WPs:\n",
    "            SFs[var][WP] = {}\n",
    "            quark_effs_at_pt = []\n",
    "            gluon_rejs_at_pt = []\n",
    "            quark_effs_data_at_pt = []\n",
    "            gluon_rejs_data_at_pt = []\n",
    "            for ii, l_pt in enumerate(label_pt_bin[:-1]):\n",
    "                extract_p_Quark_MC =  Extraction_Results_bootstrap[var][l_pt]['extract_p_Quark_MC']\n",
    "                extract_p_Gluon_MC =  Extraction_Results_bootstrap[var][l_pt]['extract_p_Gluon_MC']\n",
    "                extract_p_Quark_Data =  Extraction_Results_bootstrap[var][l_pt]['extract_p_Quark_Data']\n",
    "                extract_p_Gluon_Data =  Extraction_Results_bootstrap[var][l_pt]['extract_p_Gluon_Data']\n",
    "\n",
    "                cut = WP_cut[var][WP][l_pt]['idx']\n",
    "                \n",
    "\n",
    "                # for others, compare MC extracted vs Data extracted after reweighting \n",
    "                quark_effs_at_pt.append(np.sum(extract_p_Quark_MC[:cut])) \n",
    "                gluon_rejs_at_pt.append(np.sum(extract_p_Gluon_MC[cut:]))\n",
    "                quark_effs_data_at_pt.append(np.sum(extract_p_Quark_Data[:cut]))\n",
    "                gluon_rejs_data_at_pt.append(np.sum(extract_p_Gluon_Data[cut:]))\n",
    "\n",
    "\n",
    "            SF_quark, SF_gluon = Plot_WP(WP = WP, var= var, output_path= None, \n",
    "                    period= period, reweighting_var = reweighting_var,\n",
    "                    reweighting_factor= weight_option,\n",
    "                    quark_effs= quark_effs_at_pt, gluon_rejs = gluon_rejs_at_pt,\n",
    "                    quark_effs_data=quark_effs_data_at_pt, gluon_rejs_data = gluon_rejs_data_at_pt,\n",
    "                    if_save=False)\n",
    "            SFs[var][WP][\"Quark\"] = SF_quark\n",
    "            SFs[var][WP][\"Gluon\"] = SF_gluon\n",
    "    SF_bootstrap[i_trail] = SFs"
   ]
  },
  {
   "cell_type": "code",
   "execution_count": 16,
   "metadata": {},
   "outputs": [],
   "source": [
    "def get_sf(bootstrap_data):\n",
    "    Extraction_Results_bootstrap = {}\n",
    "\n",
    "    SF_label_vars = ['jet_nTracks', 'jet_trackBDT', 'GBDT_newScore']\n",
    "    WPs = [0.5, 0.6, 0.7, 0.8]\n",
    "    for reweight_var in SF_label_vars:\n",
    "\n",
    "        Extraction_Results_bootstrap[reweight_var] = {}\n",
    "        # Load information from MC \n",
    "        Extraction_Results_path = nominal_path / \"plots\" / \"ADE\" / \"Extraction_Results\" / f\"{reweight_var}_Extraction_Results.pkl\"\n",
    "        Extraction_Results = joblib.load(Extraction_Results_path)\n",
    "\n",
    "        for l_pt in label_pt_bin[:-1]:\n",
    "            reweight_factor_pt_var = reweight_factor[l_pt][reweight_var]['quark_factor']\n",
    "\n",
    "            f_inv = Extraction_Results[reweight_var][l_pt]['f_inv']\n",
    "            \n",
    "            Forward_Data = bootstrap_data[reweight_var][l_pt]['Forward_Data']\n",
    "            Central_Data = bootstrap_data[reweight_var][l_pt]['Central_Data'] * reweight_factor_pt_var\n",
    "\n",
    "            p_Forward_Data = Normalize_unumpy(Forward_Data)\n",
    "            p_Central_Data = Normalize_unumpy(Central_Data)\n",
    "\n",
    "            extract_p_Quark_Data = f_inv[0][0] * p_Forward_Data + f_inv[0][1]* p_Central_Data \n",
    "            extract_p_Gluon_Data = f_inv[1][0] * p_Forward_Data + f_inv[1][1]* p_Central_Data \n",
    "\n",
    "            Extraction_Results_bootstrap[reweight_var][l_pt] = {\n",
    "                    \"Central_Data_event_weight\": bootstrap_data[reweight_var][l_pt]['Central_Data'],\n",
    "                    \"Forward_Data\": Forward_Data,\n",
    "                    \"Central_Data\": Central_Data,\n",
    "                    \"f\": Extraction_Results[reweight_var][l_pt]['f'].copy(),\n",
    "                    \"f_inv\": f_inv,\n",
    "                    \"p_Quark\": Extraction_Results[reweight_var][l_pt]['p_Quark'].copy(),\n",
    "                    \"p_Gluon\": Extraction_Results[reweight_var][l_pt]['p_Gluon'].copy(),\n",
    "                    \"p_Forward_Quark\": Extraction_Results[reweight_var][l_pt]['p_Forward_Quark'].copy(),\n",
    "                    \"p_Central_Quark\": Extraction_Results[reweight_var][l_pt]['p_Central_Quark'].copy(),\n",
    "                    \"p_Forward_Gluon\": Extraction_Results[reweight_var][l_pt]['p_Forward_Gluon'].copy(),\n",
    "                    \"p_Central_Gluon\": Extraction_Results[reweight_var][l_pt]['p_Central_Gluon'].copy(),\n",
    "                    \"extract_p_Quark_MC\": Extraction_Results[reweight_var][l_pt]['extract_p_Quark_MC'].copy(),\n",
    "                    \"extract_p_Gluon_MC\": Extraction_Results[reweight_var][l_pt]['extract_p_Gluon_MC'].copy(),\n",
    "                    \"extract_p_Quark_Data\": extract_p_Quark_Data,\n",
    "                    \"extract_p_Gluon_Data\": extract_p_Gluon_Data\n",
    "                }\n",
    "    SFs = {}\n",
    "    for var in SF_label_vars:\n",
    "        reweighting_var = var \n",
    "        weight_option = \"quark_reweighting_weights\"\n",
    "        period = \"ADE\"\n",
    "        SFs[var] = {}\n",
    "        WP_cut_path = nominal_path / \"plots\" / \"ADE\" / \"WP_cuts_pkls\" / f\"{var}_quark_reweighting_weights\" / \"WP_cuts.pkl\"\n",
    "        WP_cut = joblib.load(WP_cut_path)\n",
    "        #### Draw working points \n",
    "        for WP in WPs:\n",
    "            SFs[var][WP] = {}\n",
    "            quark_effs_at_pt = []\n",
    "            gluon_rejs_at_pt = []\n",
    "            quark_effs_data_at_pt = []\n",
    "            gluon_rejs_data_at_pt = []\n",
    "            for ii, l_pt in enumerate(label_pt_bin[:-1]):\n",
    "                extract_p_Quark_MC =  Extraction_Results_bootstrap[var][l_pt]['extract_p_Quark_MC']\n",
    "                extract_p_Gluon_MC =  Extraction_Results_bootstrap[var][l_pt]['extract_p_Gluon_MC']\n",
    "                extract_p_Quark_Data =  Extraction_Results_bootstrap[var][l_pt]['extract_p_Quark_Data']\n",
    "                extract_p_Gluon_Data =  Extraction_Results_bootstrap[var][l_pt]['extract_p_Gluon_Data']\n",
    "\n",
    "                cut = WP_cut[var][WP][l_pt]['idx']\n",
    "                \n",
    "\n",
    "                # for others, compare MC extracted vs Data extracted after reweighting \n",
    "                quark_effs_at_pt.append(np.sum(extract_p_Quark_MC[:cut])) \n",
    "                gluon_rejs_at_pt.append(np.sum(extract_p_Gluon_MC[cut:]))\n",
    "                quark_effs_data_at_pt.append(np.sum(extract_p_Quark_Data[:cut]))\n",
    "                gluon_rejs_data_at_pt.append(np.sum(extract_p_Gluon_Data[cut:]))\n",
    "\n",
    "\n",
    "            SF_quark, SF_gluon = Plot_WP(WP = WP, var= var, output_path= None, \n",
    "                    period= period, reweighting_var = reweighting_var,\n",
    "                    reweighting_factor= weight_option,\n",
    "                    quark_effs= quark_effs_at_pt, gluon_rejs = gluon_rejs_at_pt,\n",
    "                    quark_effs_data=quark_effs_data_at_pt, gluon_rejs_data = gluon_rejs_data_at_pt,\n",
    "                    if_save=False)\n",
    "            SFs[var][WP][\"Quark\"] = SF_quark\n",
    "            SFs[var][WP][\"Gluon\"] = SF_gluon\n",
    "    return SFs"
   ]
  },
  {
   "cell_type": "code",
   "execution_count": 17,
   "metadata": {},
   "outputs": [],
   "source": [
    "list_bootstrap_Data = [*bootstrap_Data.values()]"
   ]
  },
  {
   "cell_type": "code",
   "execution_count": 20,
   "metadata": {},
   "outputs": [],
   "source": [
    "from concurrent.futures import ProcessPoolExecutor\n",
    "import functools \n",
    "n_workers = 10 \n",
    "with ProcessPoolExecutor(max_workers=n_workers) as executor:\n",
    "    SFs_all = list(executor.map(get_sf, list_bootstrap_Data))\n"
   ]
  },
  {
   "cell_type": "code",
   "execution_count": 21,
   "metadata": {},
   "outputs": [
    {
     "data": {
      "text/plain": [
       "100"
      ]
     },
     "execution_count": 21,
     "metadata": {},
     "output_type": "execute_result"
    }
   ],
   "source": [
    "len(SFs_all)"
   ]
  },
  {
   "cell_type": "code",
   "execution_count": 33,
   "metadata": {},
   "outputs": [],
   "source": [
    "SF_jet_nTrack_0p5_500 = []\n",
    "for i in range(100):\n",
    "    SF_jet_nTrack_0p5_500.append(unumpy.nominal_values(SFs_all[i]['jet_nTracks'][0.5]['Quark'][0]))"
   ]
  },
  {
   "cell_type": "code",
   "execution_count": 41,
   "metadata": {},
   "outputs": [
    {
     "data": {
      "text/plain": [
       "(array([ 4.,  8., 12.,  3., 19., 23., 10., 13.,  6.,  2.]),\n",
       " array([1.02608703, 1.02647334, 1.02685965, 1.02724596, 1.02763227,\n",
       "        1.02801858, 1.02840489, 1.0287912 , 1.02917752, 1.02956383,\n",
       "        1.02995014]),\n",
       " <BarContainer object of 10 artists>)"
      ]
     },
     "execution_count": 41,
     "metadata": {},
     "output_type": "execute_result"
    },
    {
     "data": {
      "image/png": "[encoded data removed]",
      "text/plain": [
       "<Figure size 799.992x599.976 with 1 Axes>"
      ]
     },
     "metadata": {},
     "output_type": "display_data"
    }
   ],
   "source": [
    "plt.hist(SF_jet_nTrack_0p5_500, bins=10)"
   ]
  },
  {
   "cell_type": "code",
   "execution_count": 42,
   "metadata": {},
   "outputs": [],
   "source": [
    "nominal = joblib.load(nominal_path / \"plots\" / \"ADE\" / \"SFs_pkls\" / \"jet_nTracks_quark_reweighting_weights\" / \"SFs.pkl\")"
   ]
  },
  {
   "cell_type": "code",
   "execution_count": 44,
   "metadata": {},
   "outputs": [
    {
     "data": {
      "text/plain": [
       "array([1.0279333381553586+/-0.0018586113195646565,\n",
       "       1.0443329347783434+/-0.0015922765556675275,\n",
       "       1.0461937516008866+/-0.0028960158934784102,\n",
       "       1.033476695908774+/-0.005694787038356356,\n",
       "       1.0204495764454495+/-0.010449997703414317,\n",
       "       1.00974996065689+/-0.02274082580019074], dtype=object)"
      ]
     },
     "execution_count": 44,
     "metadata": {},
     "output_type": "execute_result"
    }
   ],
   "source": [
    "nominal['jet_nTracks'][0.5]['Quark']"
   ]
  },
  {
   "cell_type": "code",
   "execution_count": 46,
   "metadata": {},
   "outputs": [
    {
     "data": {
      "text/plain": [
       "array([1.027082852802473+/-0.0018575834646214584,\n",
       "       1.0443261340150394+/-0.001592412701851869,\n",
       "       1.0488422593128628+/-0.0028980246305595793,\n",
       "       1.0278062099788436+/-0.00569077746708615,\n",
       "       1.0250975387596635+/-0.010458498707569387,\n",
       "       1.0092253931800512+/-0.022834289745968007], dtype=object)"
      ]
     },
     "execution_count": 46,
     "metadata": {},
     "output_type": "execute_result"
    }
   ],
   "source": [
    "SFs_all[0]['jet_nTracks'][0.5]['Quark']"
   ]
  },
  {
   "cell_type": "code",
   "execution_count": null,
   "metadata": {},
   "outputs": [],
   "source": [
    "SFs = {}\n",
    "for var in SF_label_vars:\n",
    "    reweighting_var = var \n",
    "    weight_option = \"quark_reweighting_weights\"\n",
    "    period = \"ADE\"\n",
    "    SFs[var] = {}\n",
    "    WP_cut_path = nominal_path / \"plots\" / \"ADE\" / \"WP_cuts_pkls\" / f\"{var}_quark_reweighting_weights\" / \"WP_cuts.pkl\"\n",
    "    WP_cut = joblib.load(WP_cut_path)\n",
    "    #### Draw working points \n",
    "    for WP in WPs:\n",
    "        SFs[var][WP] = {}\n",
    "        quark_effs_at_pt = []\n",
    "        gluon_rejs_at_pt = []\n",
    "        quark_effs_data_at_pt = []\n",
    "        gluon_rejs_data_at_pt = []\n",
    "        for ii, l_pt in enumerate(label_pt_bin[:-1]):\n",
    "            extract_p_Quark_MC =  Extraction_Results_bootstrap[var][l_pt]['extract_p_Quark_MC']\n",
    "            extract_p_Gluon_MC =  Extraction_Results_bootstrap[var][l_pt]['extract_p_Gluon_MC']\n",
    "            extract_p_Quark_Data =  Extraction_Results_bootstrap[var][l_pt]['extract_p_Quark_Data']\n",
    "            extract_p_Gluon_Data =  Extraction_Results_bootstrap[var][l_pt]['extract_p_Gluon_Data']\n",
    "\n",
    "            cut = WP_cut[var][WP][l_pt]['idx']\n",
    "            \n",
    "\n",
    "            # for others, compare MC extracted vs Data extracted after reweighting \n",
    "            quark_effs_at_pt.append(np.sum(extract_p_Quark_MC[:cut])) \n",
    "            gluon_rejs_at_pt.append(np.sum(extract_p_Gluon_MC[cut:]))\n",
    "            quark_effs_data_at_pt.append(np.sum(extract_p_Quark_Data[:cut]))\n",
    "            gluon_rejs_data_at_pt.append(np.sum(extract_p_Gluon_Data[cut:]))\n",
    "\n",
    "\n",
    "        SF_quark, SF_gluon = Plot_WP(WP = WP, var= var, output_path= None, \n",
    "                period= period, reweighting_var = reweighting_var,\n",
    "                reweighting_factor= weight_option,\n",
    "                quark_effs= quark_effs_at_pt, gluon_rejs = gluon_rejs_at_pt,\n",
    "                quark_effs_data=quark_effs_data_at_pt, gluon_rejs_data = gluon_rejs_data_at_pt,\n",
    "                if_save=False)\n",
    "        SFs[var][WP][\"Quark\"] = SF_quark\n",
    "        SFs[var][WP][\"Gluon\"] = SF_gluon"
   ]
  },
  {
   "cell_type": "code",
   "execution_count": null,
   "metadata": {},
   "outputs": [],
   "source": [
    "SFs['jet_nTracks'].keys()"
   ]
  },
  {
   "cell_type": "code",
   "execution_count": null,
   "metadata": {},
   "outputs": [],
   "source": [
    "reweight_var = 'jet_nTracks'\n",
    "reweight_option = 'jet_nTracks_quark_reweighting_weights'\n",
    "pt = 500 "
   ]
  },
  {
   "cell_type": "code",
   "execution_count": null,
   "metadata": {},
   "outputs": [],
   "source": [
    "reweight_factor_pt_var = reweight_factor[pt]['jet_nTracks']['quark_factor']"
   ]
  },
  {
   "cell_type": "code",
   "execution_count": null,
   "metadata": {},
   "outputs": [],
   "source": [
    "### Get the fraction from MC \n",
    "Extraction_Results_path = nominal_path / \"plots\" / \"ADE\" / \"Extraction_Results\" / f\"{reweight_var}_Extraction_Results.pkl\"\n",
    "Extraction_Results = joblib.load(Extraction_Results_path)"
   ]
  },
  {
   "cell_type": "code",
   "execution_count": null,
   "metadata": {},
   "outputs": [],
   "source": [
    "f_inv = Extraction_Results[reweight_var][pt]['f_inv']"
   ]
  },
  {
   "cell_type": "code",
   "execution_count": null,
   "metadata": {},
   "outputs": [],
   "source": [
    "Forward_Data = bootstrap_data[reweight_var][pt]['Forward_Data']\n",
    "Central_Data = bootstrap_data[reweight_var][pt]['Central_Data'] * reweight_factor_pt_var"
   ]
  },
  {
   "cell_type": "code",
   "execution_count": null,
   "metadata": {},
   "outputs": [],
   "source": [
    "p_Forward_Data = Normalize_unumpy(Forward_Data)\n",
    "p_Central_Data = Normalize_unumpy(Central_Data)"
   ]
  },
  {
   "cell_type": "code",
   "execution_count": null,
   "metadata": {},
   "outputs": [],
   "source": [
    "extract_p_Quark_Data = f_inv[0][0] * p_Forward_Data + f_inv[0][1]* p_Central_Data \n",
    "extract_p_Gluon_Data = f_inv[1][0] * p_Forward_Data + f_inv[1][1]* p_Central_Data "
   ]
  },
  {
   "cell_type": "code",
   "execution_count": null,
   "metadata": {},
   "outputs": [],
   "source": [
    "Extraction_Results_bootstrap = {}\n",
    "\n",
    "Extraction_Results_bootstrap[var][l_pt] = {\n",
    "                \"Forward_Data\": Forward_Data,\n",
    "                \"Central_Data\": Central_Data,\n",
    "\n",
    "                \"f_inv\": f_inv,\n",
    "                \"p_Quark\": Extraction_Results[reweight_var][pt]['p_Quark'].copy(),\n",
    "                \"p_Gluon\": Extraction_Results[reweight_var][pt]['p_Gluon'].copy(),\n",
    "                \"p_Forward_Quark\": Extraction_Results[reweight_var][pt]['p_Forward_Quark'].copy(),\n",
    "                \"p_Central_Quark\": Extraction_Results[reweight_var][pt]['p_Central_Quark'].copy(),\n",
    "                \"p_Forward_Gluon\": Extraction_Results[reweight_var][pt]['p_Forward_Gluon'].copy(),\n",
    "                \"p_Central_Gluon\": Extraction_Results[reweight_var][pt]['p_Central_Gluon'].copy(),\n",
    "                \"extract_p_Quark_MC\": Extraction_Results[reweight_var][pt]['extract_p_Quark_MC'].copy(),\n",
    "                \"extract_p_Gluon_MC\": Extraction_Results[reweight_var][pt]['extract_p_Gluon_MC'].copy(),\n",
    "                \"extract_p_Quark_Data\": extract_p_Quark_Data,\n",
    "                \"extract_p_Gluon_Data\": extract_p_Gluon_Data\n",
    "            }"
   ]
  }
 ],
 "metadata": {
  "kernelspec": {
   "display_name": "ml",
   "language": "python",
   "name": "python3"
  },
  "language_info": {
   "codemirror_mode": {
    "name": "ipython",
    "version": 3
   },
   "file_extension": ".py",
   "mimetype": "text/x-python",
   "name": "python",
   "nbconvert_exporter": "python",
   "pygments_lexer": "ipython3",
   "version": "3.9.15"
  },
  "orig_nbformat": 4
 },
 "nbformat": 4,
 "nbformat_minor": 2
}
